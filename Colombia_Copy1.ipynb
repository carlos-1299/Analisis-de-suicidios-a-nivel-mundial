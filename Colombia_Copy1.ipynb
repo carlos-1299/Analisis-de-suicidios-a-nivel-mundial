{
 "cells": [
  {
   "cell_type": "markdown",
   "metadata": {
    "colab_type": "text",
    "id": "CaTzALEVGkQF"
   },
   "source": [
    "# <center> SUICIDIOS EN COLOMBIA </center> "
   ]
  },
  {
   "cell_type": "markdown",
   "metadata": {
    "colab_type": "text",
    "id": "Pa42Kds9GkQH"
   },
   "source": [
    "<img src=\"banner_colombia.jpeg\" style=\"width:1200px;\">"
   ]
  },
  {
   "cell_type": "code",
   "execution_count": 1,
   "metadata": {
    "colab": {},
    "colab_type": "code",
    "id": "w-cs0qSoGkQJ"
   },
   "outputs": [],
   "source": [
    "from IPython.display import HTML\n",
    "import random"
   ]
  },
  {
   "cell_type": "code",
   "execution_count": 2,
   "metadata": {
    "colab": {
     "base_uri": "https://localhost:8080/",
     "height": 34
    },
    "colab_type": "code",
    "id": "X7A8cgodGkQO",
    "outputId": "9ed7d587-4349-4474-a2f5-71a7f35ceb7f"
   },
   "outputs": [
    {
     "data": {
      "text/html": [
       "\n",
       "        <script>\n",
       "            function code_toggle_9620291577698076119() {\n",
       "                $('div.cell.code_cell.rendered.selected').find('div.input').toggle();\n",
       "            }\n",
       "\n",
       "            \n",
       "        </script>\n",
       "\n",
       "        <a href=\"javascript:code_toggle_9620291577698076119()\">Mostrar/Ocultar</a>\n",
       "    "
      ],
      "text/plain": [
       "<IPython.core.display.HTML object>"
      ]
     },
     "execution_count": 2,
     "metadata": {},
     "output_type": "execute_result"
    }
   ],
   "source": [
    "def ocultar(for_next=False):\n",
    "    this_cell = \"\"\"$('div.cell.code_cell.rendered.selected')\"\"\"\n",
    "    next_cell = this_cell + '.next()'\n",
    "\n",
    "    toggle_text = 'Mostrar/Ocultar'  # text shown on toggle link\n",
    "    target_cell = this_cell  # target cell to control with toggle\n",
    "    js_hide_current = ''  # bit of JS to permanently hide code in current cell (only when toggling next cell)\n",
    "\n",
    "    if for_next:\n",
    "        target_cell = next_cell\n",
    "        toggle_text += ' next cell'\n",
    "        js_hide_current = this_cell + '.find(\"div.input\").hide();'\n",
    "\n",
    "    js_f_name = 'code_toggle_{}'.format(str(random.randint(1,2**64)))\n",
    "\n",
    "    html = \"\"\"\n",
    "        <script>\n",
    "            function {f_name}() {{\n",
    "                {cell_selector}.find('div.input').toggle();\n",
    "            }}\n",
    "\n",
    "            {js_hide_current}\n",
    "        </script>\n",
    "\n",
    "        <a href=\"javascript:{f_name}()\">{toggle_text}</a>\n",
    "    \"\"\".format(\n",
    "        f_name=js_f_name,\n",
    "        cell_selector=target_cell,\n",
    "        js_hide_current=js_hide_current, \n",
    "        toggle_text=toggle_text\n",
    "    )\n",
    "\n",
    "    return HTML(html)\n",
    "ocultar()"
   ]
  },
  {
   "cell_type": "code",
   "execution_count": 3,
   "metadata": {
    "colab": {
     "base_uri": "https://localhost:8080/",
     "height": 34
    },
    "colab_type": "code",
    "id": "d703eixaGkQX",
    "outputId": "36866fb0-5b8d-4f4b-f05c-76effbca7a16"
   },
   "outputs": [
    {
     "data": {
      "text/html": [
       "\n",
       "        <script>\n",
       "            function code_toggle_6823399877272517163() {\n",
       "                $('div.cell.code_cell.rendered.selected').find('div.input').toggle();\n",
       "            }\n",
       "\n",
       "            \n",
       "        </script>\n",
       "\n",
       "        <a href=\"javascript:code_toggle_6823399877272517163()\">Mostrar/Ocultar</a>\n",
       "    "
      ],
      "text/plain": [
       "<IPython.core.display.HTML object>"
      ]
     },
     "execution_count": 3,
     "metadata": {},
     "output_type": "execute_result"
    }
   ],
   "source": [
    "import pandas as pd\n",
    "import numpy as np\n",
    "import matplotlib.pyplot as plt\n",
    "%matplotlib inline\n",
    "pd.__version__\n",
    "import random\n",
    "from sklearn.preprocessing import MinMaxScaler\n",
    "import seaborn as sns\n",
    "from sklearn.naive_bayes import GaussianNB\n",
    "from sklearn.tree import DecisionTreeClassifier\n",
    "from sklearn.model_selection import cross_val_score\n",
    "from sklearn.decomposition import PCA\n",
    "from sklearn.ensemble import RandomForestClassifier\n",
    "from sklearn.svm import SVC\n",
    "from sklearn.ensemble import ExtraTreesClassifier\n",
    "from sklearn.model_selection import KFold\n",
    "from sklearn.metrics import *\n",
    "ocultar()"
   ]
  },
  {
   "cell_type": "markdown",
   "metadata": {
    "colab_type": "text",
    "id": "QQ9dbMyNGkQg"
   },
   "source": [
    "# Dataset creado"
   ]
  },
  {
   "cell_type": "markdown",
   "metadata": {
    "colab_type": "text",
    "id": "ZbTAvBFX4z8q"
   },
   "source": [
    "## Extrayendo datos de medicina legal"
   ]
  },
  {
   "cell_type": "code",
   "execution_count": 4,
   "metadata": {
    "colab": {
     "base_uri": "https://localhost:8080/",
     "height": 51
    },
    "colab_type": "code",
    "id": "OTJCjYJX--o5",
    "outputId": "a285b73d-0b1b-4e86-cc62-e9c16d07348a"
   },
   "outputs": [
    {
     "name": "stdout",
     "output_type": "stream",
     "text": [
      "(2097, 5)\n"
     ]
    },
    {
     "data": {
      "text/html": [
       "\n",
       "        <script>\n",
       "            function code_toggle_17817908634379574074() {\n",
       "                $('div.cell.code_cell.rendered.selected').find('div.input').toggle();\n",
       "            }\n",
       "\n",
       "            \n",
       "        </script>\n",
       "\n",
       "        <a href=\"javascript:code_toggle_17817908634379574074()\">Mostrar/Ocultar</a>\n",
       "    "
      ],
      "text/plain": [
       "<IPython.core.display.HTML object>"
      ]
     },
     "execution_count": 4,
     "metadata": {},
     "output_type": "execute_result"
    }
   ],
   "source": [
    "dpto=np.array(['Amazonas','Antioquia','Arauca','Atlantico','Bolivar','Boyaca','Caldas','Caqueta','Casanare','Cauca','Cesar','Choco','Cordoba','Cundinamarca','Guainia','Guaviare','Huila','La Guajira','Magdalena','Meta','Narino','Norte de Santander','Putumayo','Quindio,','Risaralda','San Andres y Providencia','Santander','Sucre','Tolima','Valle del Cauca','Vaupés','Vichada']) #32 departamentos de colombia\n",
    "dpto1=dpto\n",
    "coddep = range(32) \n",
    "edad = ['niñez','adolescencia','juventud','adultez','vejez'] #tipos de edades\n",
    "sexo = [0,1]#Sexo\n",
    "factor = ['pareja','enfermedad','economico','desamor','m_familiar','juridica','escolares','maltrato','laborales','s_familiar','otras']#factores influyentes\n",
    "causa = ['asfixia','toxico','proyectil','contundente','cortopunzante','termico','cortante','caustico','corto_contundente','explosivo','punzante']#causa de muerte\n",
    "index = pd.Series(['departamento','factor_influyente','causa','edad','sexo'])#nombre de las columnas para el Dataframe\n",
    "\n",
    "d=pd.DataFrame(edad)\n",
    "d=d.replace({\"niñez\":0, \"adolescencia\":1, \"juventud\":2,\"adultez\":3, \"vejez\":4})#se reemplaza por numerico\n",
    "edad=np.array(d) \n",
    "\n",
    "d=pd.DataFrame(causa)\n",
    "d=d.replace({'asfixia':0,'toxico':1,'proyectil':2,'contundente':3,'cortopunzante':4,'termico':5,'cortante':6,'caustico':7,'corto_contundente':8,'explosivo':9,'punzante':10})#se reemplaza por numerico\n",
    "causa=np.array(d) \n",
    "\n",
    "d=pd.DataFrame(factor)\n",
    "d=d.replace({'pareja':0,'enfermedad':1,'economico':2,'desamor':3,'m_familiar':4,'juridica':5,'escolares':6,'maltrato':7,'laborales':8,'s_familiar':9,'otras':10})#se reemplaza por numerico\n",
    "factor=np.array(d)    \n",
    "\n",
    "vec=[6,334,23,2,77,310,49,57,70,18,19,43,41,12,38,137,1,4,72,21,34,44,75,79,14,36,58,97,38,59,189,40]#Numero de veces que esta cada dpto\n",
    "dpto=np.array([])\n",
    "for i,j in zip(vec,coddep):#crea la array de dpto con la veces que aparece cada uno\n",
    "            vec2=np.ones(i)\n",
    "            vec2=vec2*j\n",
    "            dpto=np.append(dpto,vec2)\n",
    "\n",
    "            \n",
    "#########################################################################\n",
    "\n",
    "edades_h=[37,195,572,723,135]#veces que aparece cada edad hombre\n",
    "edades_m=[33,88,169,126,19]#veces que aparece cada edad mujer\n",
    "vec1=np.array([])\n",
    "b=np.array([])\n",
    "c=np.array([])\n",
    "for i,j in zip(edades_h,edad):\n",
    "            vec2=np.ones(i)\n",
    "            vec2=vec2*j\n",
    "            vec1=np.append(vec1,vec2)\n",
    "vec3=np.array([])\n",
    "for i,j in zip(edades_m,edad):\n",
    "            vec2=np.ones(i)\n",
    "            vec2=vec2*j\n",
    "            vec3=np.append(vec3,vec2)\n",
    "for i in range(len(vec1)):\n",
    "    b=np.append(b,1)\n",
    "for j in range(len(vec3)):\n",
    "    c=np.append(c,0)\n",
    "vec2=np.append(b,c)\n",
    "vec1=np.append(vec1,vec3)\n",
    "vec=np.column_stack((vec1,vec2))\n",
    "\n",
    "###################################################\n",
    "number_causa=[1205,422,274,115,28,19,8,15,9,1,1]\n",
    "number_factor=[797,789,135,128,19,14,19,21,19,16,140]\n",
    "vec3=np.array([])\n",
    "for i,j in zip(number_causa,causa):\n",
    "            vec2=np.ones(i)\n",
    "            vec2=vec2*j\n",
    "            vec3=np.append(vec3,vec2)\n",
    "vec1=np.array([])\n",
    "for i,j in zip(number_factor,factor):\n",
    "            vec2=np.ones(i)\n",
    "            vec2=vec2*j\n",
    "            vec1=np.append(vec1,vec2)\n",
    "vec1=np.column_stack((vec1,vec3))\n",
    "\n",
    "\n",
    "\n",
    "d=np.column_stack((dpto,vec1,vec))\n",
    "print np.shape(d)\n",
    "\n",
    "\n",
    "np.random.shuffle(d)\n",
    "\n",
    "ocultar()\n"
   ]
  },
  {
   "cell_type": "code",
   "execution_count": 14,
   "metadata": {
    "colab": {
     "base_uri": "https://localhost:8080/",
     "height": 204
    },
    "colab_type": "code",
    "id": "lxQwkN68_xrS",
    "outputId": "c72c0ff2-9fbd-4e34-b03a-135e9fa9cb25"
   },
   "outputs": [
    {
     "data": {
      "text/html": [
       "<div>\n",
       "<style scoped>\n",
       "    .dataframe tbody tr th:only-of-type {\n",
       "        vertical-align: middle;\n",
       "    }\n",
       "\n",
       "    .dataframe tbody tr th {\n",
       "        vertical-align: top;\n",
       "    }\n",
       "\n",
       "    .dataframe thead th {\n",
       "        text-align: right;\n",
       "    }\n",
       "</style>\n",
       "<table border=\"1\" class=\"dataframe\">\n",
       "  <thead>\n",
       "    <tr style=\"text-align: right;\">\n",
       "      <th></th>\n",
       "      <th>departamento</th>\n",
       "      <th>factor_influyente</th>\n",
       "      <th>causa</th>\n",
       "      <th>edad</th>\n",
       "      <th>sexo</th>\n",
       "    </tr>\n",
       "  </thead>\n",
       "  <tbody>\n",
       "    <tr>\n",
       "      <th>0</th>\n",
       "      <td>5.0</td>\n",
       "      <td>0.0</td>\n",
       "      <td>0.0</td>\n",
       "      <td>2.0</td>\n",
       "      <td>1.0</td>\n",
       "    </tr>\n",
       "    <tr>\n",
       "      <th>1</th>\n",
       "      <td>29.0</td>\n",
       "      <td>3.0</td>\n",
       "      <td>2.0</td>\n",
       "      <td>2.0</td>\n",
       "      <td>0.0</td>\n",
       "    </tr>\n",
       "    <tr>\n",
       "      <th>2</th>\n",
       "      <td>5.0</td>\n",
       "      <td>0.0</td>\n",
       "      <td>0.0</td>\n",
       "      <td>2.0</td>\n",
       "      <td>1.0</td>\n",
       "    </tr>\n",
       "    <tr>\n",
       "      <th>3</th>\n",
       "      <td>14.0</td>\n",
       "      <td>1.0</td>\n",
       "      <td>0.0</td>\n",
       "      <td>3.0</td>\n",
       "      <td>1.0</td>\n",
       "    </tr>\n",
       "    <tr>\n",
       "      <th>4</th>\n",
       "      <td>10.0</td>\n",
       "      <td>1.0</td>\n",
       "      <td>0.0</td>\n",
       "      <td>3.0</td>\n",
       "      <td>1.0</td>\n",
       "    </tr>\n",
       "  </tbody>\n",
       "</table>\n",
       "</div>"
      ],
      "text/plain": [
       "   departamento  factor_influyente  causa  edad  sexo\n",
       "0           5.0                0.0    0.0   2.0   1.0\n",
       "1          29.0                3.0    2.0   2.0   0.0\n",
       "2           5.0                0.0    0.0   2.0   1.0\n",
       "3          14.0                1.0    0.0   3.0   1.0\n",
       "4          10.0                1.0    0.0   3.0   1.0"
      ]
     },
     "execution_count": 14,
     "metadata": {},
     "output_type": "execute_result"
    }
   ],
   "source": [
    "d=pd.DataFrame(d,columns=index)\n",
    "d.head(5)"
   ]
  },
  {
   "cell_type": "markdown",
   "metadata": {
    "colab_type": "text",
    "id": "vmXJxpJoGkQm"
   },
   "source": [
    "## <center>Muy pocos datos...</center>\n",
    "## <center>Que haremos?</center>"
   ]
  },
  {
   "cell_type": "markdown",
   "metadata": {
    "colab_type": "text",
    "id": "meTehgjCGkQo"
   },
   "source": [
    "## Agregando mas datos"
   ]
  },
  {
   "cell_type": "code",
   "execution_count": 6,
   "metadata": {
    "colab": {},
    "colab_type": "code",
    "id": "miIIDO-uGkQp"
   },
   "outputs": [],
   "source": [
    "conv=np.cov(d,rowvar=False) \n",
    "medias=np.mean(d,axis=0)\n",
    "\n",
    "#Generando datos poco a poco\n",
    "nuevos1=np.random.multivariate_normal(medias, conv, 700)\n",
    "nuevos2=np.random.multivariate_normal(medias, conv, 1500)\n",
    "nuevos3=np.random.multivariate_normal(medias, conv, 2500)\n",
    "nuevos4=np.random.multivariate_normal(medias, conv, 4000)\n",
    "\n",
    "\n",
    "#Datasets de los datos generados\n",
    "datan1=pd.DataFrame(nuevos1, columns=index)\n",
    "datan2=pd.DataFrame(nuevos2, columns=index)\n",
    "datan3=pd.DataFrame(nuevos3, columns=index)\n",
    "datan4=pd.DataFrame(nuevos4, columns=index)\n",
    "\n",
    "\n",
    "\n",
    "### QUITAMOS LOS DATOS QUE NO SE ACOMODABAN A NUESTROS DATOS\n",
    "datan1=datan1.round()\n",
    "datan1=datan1.abs()\n",
    "nuevod1=datan1.loc[datan1['departamento']<32]\n",
    "nuevod1=nuevod1.loc[datan1['factor_influyente']<11]\n",
    "nuevod1=nuevod1.loc[datan1['causa']<11]\n",
    "nuevod1=nuevod1.loc[datan1['edad']<5]\n",
    "nuevod1=nuevod1.loc[datan1['sexo']<2]\n",
    "\n",
    "datan2=datan2.round()\n",
    "datan2=datan2.abs()\n",
    "nuevod2=datan2.loc[datan2['departamento']<32]\n",
    "nuevod2=nuevod2.loc[datan2['factor_influyente']<11]\n",
    "nuevod2=nuevod2.loc[datan2['causa']<11]\n",
    "nuevod2=nuevod2.loc[datan2['edad']<5]\n",
    "nuevod2=nuevod2.loc[datan2['sexo']<2]\n",
    "\n",
    "\n",
    "datan3=datan3.round()\n",
    "datan3=datan3.abs()\n",
    "nuevod3=datan3.loc[datan3['departamento']<32]\n",
    "nuevod3=nuevod3.loc[datan3['factor_influyente']<11]\n",
    "nuevod3=nuevod3.loc[datan3['causa']<11]\n",
    "nuevod3=nuevod3.loc[datan3['edad']<5]\n",
    "nuevod3=nuevod3.loc[datan3['sexo']<2]\n",
    "\n",
    "\n",
    "datan4=datan4.round()\n",
    "datan4=datan4.abs()\n",
    "nuevod4=datan4.loc[datan4['departamento']<32]\n",
    "nuevod4=nuevod4.loc[datan4['factor_influyente']<11]\n",
    "nuevod4=nuevod4.loc[datan4['causa']<11]\n",
    "nuevod4=nuevod4.loc[datan4['edad']<5]\n",
    "nuevod4=nuevod4.loc[datan4['sexo']<2]"
   ]
  },
  {
   "cell_type": "code",
   "execution_count": 7,
   "metadata": {
    "colab": {
     "base_uri": "https://localhost:8080/",
     "height": 85
    },
    "colab_type": "code",
    "id": "mtiJqEWJGkQx",
    "outputId": "940e9d15-25b4-47dc-dcd1-b30e4f9b1cf0"
   },
   "outputs": [
    {
     "name": "stdout",
     "output_type": "stream",
     "text": [
      "(630, 5)\n",
      "(1363, 5)\n",
      "(2277, 5)\n",
      "(3615, 5)\n"
     ]
    }
   ],
   "source": [
    "print nuevod1.shape\n",
    "print nuevod2.shape\n",
    "print nuevod3.shape\n",
    "print nuevod4.shape"
   ]
  },
  {
   "cell_type": "markdown",
   "metadata": {
    "colab_type": "text",
    "id": "n8QhoOOvGkQ2"
   },
   "source": [
    "## Concatenar los dos datasets"
   ]
  },
  {
   "cell_type": "code",
   "execution_count": 8,
   "metadata": {
    "colab": {
     "base_uri": "https://localhost:8080/",
     "height": 102
    },
    "colab_type": "code",
    "id": "ElhPPTd0GkQ3",
    "outputId": "e5660016-114b-49c4-e12c-0aa8de28d2b6"
   },
   "outputs": [
    {
     "name": "stdout",
     "output_type": "stream",
     "text": [
      "(2727, 6)\n",
      "(3460, 6)\n",
      "(4374, 6)\n",
      "(5712, 6)\n"
     ]
    },
    {
     "data": {
      "text/html": [
       "\n",
       "        <script>\n",
       "            function code_toggle_3464756241161023779() {\n",
       "                $('div.cell.code_cell.rendered.selected').find('div.input').toggle();\n",
       "            }\n",
       "\n",
       "            \n",
       "        </script>\n",
       "\n",
       "        <a href=\"javascript:code_toggle_3464756241161023779()\">Mostrar/Ocultar</a>\n",
       "    "
      ],
      "text/plain": [
       "<IPython.core.display.HTML object>"
      ]
     },
     "execution_count": 8,
     "metadata": {},
     "output_type": "execute_result"
    }
   ],
   "source": [
    "#Concatenar cada dataset con el real\n",
    "result1 = pd.concat([nuevod1, d], axis=0)\n",
    "result1=result1.astype(np.int)\n",
    "result1[\"dptofactor\"] = result1.apply(lambda x: \"\".join([str(x[i]) for i in range(2)]),axis=1)\n",
    "print result1.shape\n",
    "\n",
    "result2 = pd.concat([nuevod2, d], axis=0)\n",
    "result2=result2.astype(np.int)\n",
    "result2[\"dptofactor\"] = result2.apply(lambda x: \"\".join([str(x[i]) for i in range(2)]),axis=1)\n",
    "print result2.shape\n",
    "\n",
    "result3 = pd.concat([nuevod3, d], axis=0)\n",
    "result3=result3.astype(np.int)\n",
    "result3[\"dptofactor\"] = result3.apply(lambda x: \"\".join([str(x[i]) for i in range(2)]),axis=1)\n",
    "print result3.shape\n",
    "\n",
    "result4 = pd.concat([nuevod4, d], axis=0)\n",
    "result4=result4.astype(np.int)\n",
    "result4[\"dptofactor\"] = result4.apply(lambda x: \"\".join([str(x[i]) for i in range(2)]),axis=1)\n",
    "print result4.shape\n",
    "\n",
    "ocultar()"
   ]
  },
  {
   "cell_type": "code",
   "execution_count": 9,
   "metadata": {
    "colab": {
     "base_uri": "https://localhost:8080/",
     "height": 204
    },
    "colab_type": "code",
    "id": "I8QTuA6hGkQ7",
    "outputId": "a6086083-9533-47bc-dd7f-fbbb0ce0e049"
   },
   "outputs": [
    {
     "data": {
      "text/html": [
       "<div>\n",
       "<style scoped>\n",
       "    .dataframe tbody tr th:only-of-type {\n",
       "        vertical-align: middle;\n",
       "    }\n",
       "\n",
       "    .dataframe tbody tr th {\n",
       "        vertical-align: top;\n",
       "    }\n",
       "\n",
       "    .dataframe thead th {\n",
       "        text-align: right;\n",
       "    }\n",
       "</style>\n",
       "<table border=\"1\" class=\"dataframe\">\n",
       "  <thead>\n",
       "    <tr style=\"text-align: right;\">\n",
       "      <th></th>\n",
       "      <th>departamento</th>\n",
       "      <th>factor_influyente</th>\n",
       "      <th>causa</th>\n",
       "      <th>edad</th>\n",
       "      <th>sexo</th>\n",
       "      <th>dptofactor</th>\n",
       "    </tr>\n",
       "  </thead>\n",
       "  <tbody>\n",
       "    <tr>\n",
       "      <th>0</th>\n",
       "      <td>5</td>\n",
       "      <td>3</td>\n",
       "      <td>1</td>\n",
       "      <td>0</td>\n",
       "      <td>1</td>\n",
       "      <td>53</td>\n",
       "    </tr>\n",
       "    <tr>\n",
       "      <th>1</th>\n",
       "      <td>16</td>\n",
       "      <td>1</td>\n",
       "      <td>0</td>\n",
       "      <td>3</td>\n",
       "      <td>1</td>\n",
       "      <td>161</td>\n",
       "    </tr>\n",
       "    <tr>\n",
       "      <th>2</th>\n",
       "      <td>6</td>\n",
       "      <td>1</td>\n",
       "      <td>1</td>\n",
       "      <td>2</td>\n",
       "      <td>1</td>\n",
       "      <td>61</td>\n",
       "    </tr>\n",
       "    <tr>\n",
       "      <th>3</th>\n",
       "      <td>3</td>\n",
       "      <td>3</td>\n",
       "      <td>1</td>\n",
       "      <td>2</td>\n",
       "      <td>1</td>\n",
       "      <td>33</td>\n",
       "    </tr>\n",
       "    <tr>\n",
       "      <th>5</th>\n",
       "      <td>0</td>\n",
       "      <td>2</td>\n",
       "      <td>1</td>\n",
       "      <td>2</td>\n",
       "      <td>1</td>\n",
       "      <td>02</td>\n",
       "    </tr>\n",
       "  </tbody>\n",
       "</table>\n",
       "</div>"
      ],
      "text/plain": [
       "   departamento  factor_influyente  causa  edad  sexo dptofactor\n",
       "0             5                  3      1     0     1         53\n",
       "1            16                  1      0     3     1        161\n",
       "2             6                  1      1     2     1         61\n",
       "3             3                  3      1     2     1         33\n",
       "5             0                  2      1     2     1         02"
      ]
     },
     "execution_count": 9,
     "metadata": {},
     "output_type": "execute_result"
    }
   ],
   "source": [
    "result1.head()"
   ]
  },
  {
   "cell_type": "markdown",
   "metadata": {
    "colab_type": "text",
    "id": "KqYfMqbd5sQs"
   },
   "source": [
    "### Analisis de las caracteristicas en cada dataset"
   ]
  },
  {
   "cell_type": "code",
   "execution_count": 10,
   "metadata": {
    "colab": {
     "base_uri": "https://localhost:8080/",
     "height": 642
    },
    "colab_type": "code",
    "id": "Y4cfm598BAlg",
    "outputId": "1f22d578-6305-42ea-9ad0-3ddff7840d9f"
   },
   "outputs": [
    {
     "data": {
      "text/html": [
       "\n",
       "        <script>\n",
       "            function code_toggle_8667913762796592243() {\n",
       "                $('div.cell.code_cell.rendered.selected').find('div.input').toggle();\n",
       "            }\n",
       "\n",
       "            \n",
       "        </script>\n",
       "\n",
       "        <a href=\"javascript:code_toggle_8667913762796592243()\">Mostrar/Ocultar</a>\n",
       "    "
      ],
      "text/plain": [
       "<IPython.core.display.HTML object>"
      ]
     },
     "execution_count": 10,
     "metadata": {},
     "output_type": "execute_result"
    },
    {
     "data": {
      "image/png": "[encoded data removed]",
      "text/plain": [
       "<matplotlib.figure.Figure at 0x7f0ec333cd10>"
      ]
     },
     "metadata": {},
     "output_type": "display_data"
    }
   ],
   "source": [
    "attributes = [\"departamento\", \"factor_influyente\", \"causa\",\"edad\",\"sexo\"]\n",
    "pd.plotting.scatter_matrix(result1[attributes], figsize=(10,10))\n",
    "\n",
    "\n",
    "ocultar()"
   ]
  },
  {
   "cell_type": "code",
   "execution_count": 15,
   "metadata": {
    "colab": {
     "base_uri": "https://localhost:8080/",
     "height": 526
    },
    "colab_type": "code",
    "id": "aVyMQ4M7PuXc",
    "outputId": "adcf4921-013f-450b-f42c-f95971f10631"
   },
   "outputs": [
    {
     "data": {
      "image/png": "[encoded data removed]",
      "text/plain": [
       "<matplotlib.figure.Figure at 0x7f0eb1e4ee10>"
      ]
     },
     "metadata": {},
     "output_type": "display_data"
    },
    {
     "data": {
      "text/html": [
       "\n",
       "        <script>\n",
       "            function code_toggle_4658255492613880506() {\n",
       "                $('div.cell.code_cell.rendered.selected').find('div.input').toggle();\n",
       "            }\n",
       "\n",
       "            \n",
       "        </script>\n",
       "\n",
       "        <a href=\"javascript:code_toggle_4658255492613880506()\">Mostrar/Ocultar</a>\n",
       "    "
      ],
      "text/plain": [
       "<IPython.core.display.HTML object>"
      ]
     },
     "execution_count": 15,
     "metadata": {},
     "output_type": "execute_result"
    }
   ],
   "source": [
    "plt.figure(figsize=(20,7))\n",
    "\n",
    "ax=plt.subplot(221)\n",
    "sns.heatmap(result1.corr(), annot=True, linewidths=.5, fmt= '.1f',ax=ax)\n",
    "\n",
    "ax2=plt.subplot(222)\n",
    "sns.heatmap(result2.corr(), annot=True, linewidths=.5, fmt= '.1f',ax=ax2)\n",
    "\n",
    "ax3=plt.subplot(223)\n",
    "sns.heatmap(result3.corr(), annot=True, linewidths=.5, fmt= '.1f',ax=ax3)\n",
    "\n",
    "ax4=plt.subplot(224)\n",
    "sns.heatmap(result4.corr(), annot=True, linewidths=.5, fmt= '.1f',ax=ax4)\n",
    "\n",
    "plt.show()\n",
    "ocultar()"
   ]
  },
  {
   "cell_type": "markdown",
   "metadata": {
    "colab_type": "text",
    "id": "ucxsmddCGkRO"
   },
   "source": [
    "#### Departamentos vs Numero de suicidios"
   ]
  },
  {
   "cell_type": "code",
   "execution_count": 20,
   "metadata": {
    "colab": {
     "base_uri": "https://localhost:8080/",
     "height": 575
    },
    "colab_type": "code",
    "id": "nf4DxBk1F1Rz",
    "outputId": "1e9bcad3-1523-4e54-f821-a46255e5e6c8"
   },
   "outputs": [
    {
     "name": "stdout",
     "output_type": "stream",
     "text": [
      "[ 0  1  2  3  4  5  6  7  8  9 10 11 12 13 14 15 16 17 18 19 20 21 22 23 24\n",
      " 25 26 27 28 29 30 31] [ 17 354  45  28  97 335  80  73  93  38  50  74  76  34  55 161  39  28\n",
      " 103  43  52  63  91  94  27  50  68 107  45  64 195  48]\n"
     ]
    },
    {
     "data": {
      "text/html": [
       "\n",
       "        <script>\n",
       "            function code_toggle_4961086038811838479() {\n",
       "                $('div.cell.code_cell.rendered.selected').find('div.input').toggle();\n",
       "            }\n",
       "\n",
       "            \n",
       "        </script>\n",
       "\n",
       "        <a href=\"javascript:code_toggle_4961086038811838479()\">Mostrar/Ocultar</a>\n",
       "    "
      ],
      "text/plain": [
       "<IPython.core.display.HTML object>"
      ]
     },
     "execution_count": 20,
     "metadata": {},
     "output_type": "execute_result"
    },
    {
     "data": {
      "image/png": "[encoded data removed]",
      "text/plain": [
       "<matplotlib.figure.Figure at 0x7f0eb9666f10>"
      ]
     },
     "metadata": {},
     "output_type": "display_data"
    }
   ],
   "source": [
    "num_dpto, suma=np.unique(result1.departamento,return_counts=True)\n",
    "print num_dpto, suma\n",
    "sns.barplot(x=num_dpto,y=suma).set_title('Departamentos vs Numero de suicidios')\n",
    "sns.set(rc={'figure.figsize':(20,10)})\n",
    "ocultar()"
   ]
  },
  {
   "cell_type": "markdown",
   "metadata": {
    "colab_type": "text",
    "id": "g30N9yzvGkRU"
   },
   "source": [
    "#### Suicidios vs sexo por año"
   ]
  },
  {
   "cell_type": "code",
   "execution_count": 21,
   "metadata": {
    "colab": {
     "base_uri": "https://localhost:8080/",
     "height": 674
    },
    "colab_type": "code",
    "id": "yXri5SvEfRMt",
    "outputId": "ffbfedc0-2fe0-4e40-dfbc-31eed9983c92"
   },
   "outputs": [
    {
     "data": {
      "text/html": [
       "\n",
       "        <script>\n",
       "            function code_toggle_6274495791983507547() {\n",
       "                $('div.cell.code_cell.rendered.selected').find('div.input').toggle();\n",
       "            }\n",
       "\n",
       "            \n",
       "        </script>\n",
       "\n",
       "        <a href=\"javascript:code_toggle_6274495791983507547()\">Mostrar/Ocultar</a>\n",
       "    "
      ],
      "text/plain": [
       "<IPython.core.display.HTML object>"
      ]
     },
     "execution_count": 21,
     "metadata": {},
     "output_type": "execute_result"
    },
    {
     "data": {
      "image/png": "[encoded data removed]",
      "text/plain": [
       "<matplotlib.figure.Figure at 0x7f0eb983ea50>"
      ]
     },
     "metadata": {},
     "output_type": "display_data"
    }
   ],
   "source": [
    "causa_dpto = result1[['causa','sexo','departamento']].groupby(['sexo','departamento']).sum().reset_index()\n",
    "plt.figure(figsize=(25,10))\n",
    "sns.set(font_scale=1.5)\n",
    "sns.set(rc={'figure.figsize':(8,8)})\n",
    "plt.xticks(rotation=90)\n",
    "sns.barplot(y='causa', x='departamento', hue='sexo', data=causa_dpto, palette='bright').set_title('Suicides vs sexo per year')\n",
    "ocultar()"
   ]
  },
  {
   "cell_type": "markdown",
   "metadata": {
    "colab_type": "text",
    "id": "Qv__ce3BGkRa"
   },
   "source": [
    "# MUCHOS SUICIDIOS, MUCHOS DATOS\n",
    "## TODOS NOS PREGUNTAMOS CUAL FUE LA CAUSA?"
   ]
  },
  {
   "cell_type": "code",
   "execution_count": 22,
   "metadata": {
    "colab": {
     "base_uri": "https://localhost:8080/",
     "height": 34
    },
    "colab_type": "code",
    "id": "AuyyUnt4cRp8",
    "outputId": "7dbcf514-e6a1-4fd3-a0fd-59d766a04626"
   },
   "outputs": [
    {
     "data": {
      "text/html": [
       "\n",
       "        <script>\n",
       "            function code_toggle_12891937379053407011() {\n",
       "                $('div.cell.code_cell.rendered.selected').find('div.input').toggle();\n",
       "            }\n",
       "\n",
       "            \n",
       "        </script>\n",
       "\n",
       "        <a href=\"javascript:code_toggle_12891937379053407011()\">Mostrar/Ocultar</a>\n",
       "    "
      ],
      "text/plain": [
       "<IPython.core.display.HTML object>"
      ]
     },
     "execution_count": 22,
     "metadata": {},
     "output_type": "execute_result"
    }
   ],
   "source": [
    "def tpr(estC,X,y):\n",
    "    p = estC.predict(X)\n",
    "    return np.mean (p[y==1] == y[y==1])\n",
    "\n",
    "def tnr(estC,X,y):\n",
    "    p = estC.predict(X)\n",
    "    return np.mean(p[y==0] == y[y==0])\n",
    "ocultar()"
   ]
  },
  {
   "cell_type": "markdown",
   "metadata": {
    "colab_type": "text",
    "id": "19JXy0qaXq1C"
   },
   "source": [
    "## Gaussian Naive Bayes"
   ]
  },
  {
   "cell_type": "code",
   "execution_count": 23,
   "metadata": {
    "colab": {
     "base_uri": "https://localhost:8080/",
     "height": 85
    },
    "colab_type": "code",
    "id": "7jwS7USjgfkN",
    "outputId": "0d981f45-ac0e-452a-9903-7a551e06620e"
   },
   "outputs": [
    {
     "name": "stdout",
     "output_type": "stream",
     "text": [
      "accuracy 0.854 (+/- 0.01851)\n",
      "tpr      1.000 (+/- 0.00000)\n",
      "tnr      0.880 (+/- 0.00981)\n"
     ]
    },
    {
     "data": {
      "text/html": [
       "\n",
       "        <script>\n",
       "            function code_toggle_9501156293374979438() {\n",
       "                $('div.cell.code_cell.rendered.selected').find('div.input').toggle();\n",
       "            }\n",
       "\n",
       "            \n",
       "        </script>\n",
       "\n",
       "        <a href=\"javascript:code_toggle_9501156293374979438()\">Mostrar/Ocultar</a>\n",
       "    "
      ],
      "text/plain": [
       "<IPython.core.display.HTML object>"
      ]
     },
     "execution_count": 23,
     "metadata": {},
     "output_type": "execute_result"
    }
   ],
   "source": [
    "X = d.values[:,[0,1,3,4]]\n",
    "y = d.values[:,2]\n",
    "y=y.astype('int')\n",
    "est = GaussianNB()\n",
    "s = cross_val_score(est, X, y, cv=KFold(10, shuffle=True), scoring=make_scorer(accuracy_score))\n",
    "print \"accuracy %.3f (+/- %.5f)\"%(np.mean(s), np.std(s))\n",
    "st = cross_val_score(est, X, y, cv=KFold(7, shuffle=True), scoring=tpr)\n",
    "print \"tpr      %.3f (+/- %.5f)\"%(np.mean(st), np.std(st))\n",
    "sn = cross_val_score(est, X, y, cv=KFold(7, shuffle=True), scoring=tnr)\n",
    "print \"tnr      %.3f (+/- %.5f)\"%(np.mean(sn), np.std(sn))\n",
    "ocultar()"
   ]
  },
  {
   "cell_type": "code",
   "execution_count": 24,
   "metadata": {
    "colab": {
     "base_uri": "https://localhost:8080/",
     "height": 85
    },
    "colab_type": "code",
    "id": "wxkDxUrLNgZO",
    "outputId": "904ad604-3d44-47a7-b267-c7c05627ded4"
   },
   "outputs": [
    {
     "name": "stdout",
     "output_type": "stream",
     "text": [
      "accuracy 0.791 (+/- 0.02449)\n",
      "tpr      0.738 (+/- 0.03462)\n",
      "tnr      0.962 (+/- 0.01173)\n"
     ]
    },
    {
     "data": {
      "text/html": [
       "\n",
       "        <script>\n",
       "            function code_toggle_16425750413047830513() {\n",
       "                $('div.cell.code_cell.rendered.selected').find('div.input').toggle();\n",
       "            }\n",
       "\n",
       "            \n",
       "        </script>\n",
       "\n",
       "        <a href=\"javascript:code_toggle_16425750413047830513()\">Mostrar/Ocultar</a>\n",
       "    "
      ],
      "text/plain": [
       "<IPython.core.display.HTML object>"
      ]
     },
     "execution_count": 24,
     "metadata": {},
     "output_type": "execute_result"
    }
   ],
   "source": [
    "X1 = result1.values[:,[0,1,3,4]]\n",
    "y1 = result1.values[:,2]\n",
    "y1=y1.astype('int')\n",
    "est = GaussianNB()\n",
    "s = cross_val_score(est, X1, y1, cv=KFold(10, shuffle=True), scoring=make_scorer(accuracy_score))\n",
    "print \"accuracy %.3f (+/- %.5f)\"%(np.mean(s), np.std(s))\n",
    "st = cross_val_score(est, X1, y1, cv=KFold(7, shuffle=True), scoring=tpr)\n",
    "print \"tpr      %.3f (+/- %.5f)\"%(np.mean(st), np.std(st))\n",
    "sn = cross_val_score(est, X1, y1, cv=KFold(7, shuffle=True), scoring=tnr)\n",
    "print \"tnr      %.3f (+/- %.5f)\"%(np.mean(sn), np.std(sn))\n",
    "ocultar()"
   ]
  },
  {
   "cell_type": "code",
   "execution_count": 25,
   "metadata": {
    "colab": {
     "base_uri": "https://localhost:8080/",
     "height": 85
    },
    "colab_type": "code",
    "id": "uJZTTl_0cNTs",
    "outputId": "4121b187-bc8c-4234-9884-ad4da3315dd3"
   },
   "outputs": [
    {
     "name": "stdout",
     "output_type": "stream",
     "text": [
      "accuracy 0.706 (+/- 0.03039)\n",
      "tpr      0.643 (+/- 0.03460)\n",
      "tnr      0.947 (+/- 0.01048)\n"
     ]
    },
    {
     "data": {
      "text/html": [
       "\n",
       "        <script>\n",
       "            function code_toggle_16494764268206656223() {\n",
       "                $('div.cell.code_cell.rendered.selected').find('div.input').toggle();\n",
       "            }\n",
       "\n",
       "            \n",
       "        </script>\n",
       "\n",
       "        <a href=\"javascript:code_toggle_16494764268206656223()\">Mostrar/Ocultar</a>\n",
       "    "
      ],
      "text/plain": [
       "<IPython.core.display.HTML object>"
      ]
     },
     "execution_count": 25,
     "metadata": {},
     "output_type": "execute_result"
    }
   ],
   "source": [
    "X2 = result2.values[:,[0,1,3,4]]\n",
    "y2 = result2.values[:,2]\n",
    "y2=y2.astype('int')\n",
    "est = GaussianNB()\n",
    "s = cross_val_score(est, X2, y2, cv=KFold(10, shuffle=True), scoring=make_scorer(accuracy_score))\n",
    "print \"accuracy %.3f (+/- %.5f)\"%(np.mean(s), np.std(s))\n",
    "st = cross_val_score(est, X2, y2, cv=KFold(7, shuffle=True), scoring=tpr)\n",
    "print \"tpr      %.3f (+/- %.5f)\"%(np.mean(st), np.std(st))\n",
    "sn = cross_val_score(est, X2, y2, cv=KFold(7, shuffle=True), scoring=tnr)\n",
    "print \"tnr      %.3f (+/- %.5f)\"%(np.mean(sn), np.std(sn))\n",
    "ocultar()"
   ]
  },
  {
   "cell_type": "code",
   "execution_count": 26,
   "metadata": {
    "colab": {
     "base_uri": "https://localhost:8080/",
     "height": 85
    },
    "colab_type": "code",
    "id": "mPS5h8iFcNgJ",
    "outputId": "e0a3fac0-b298-4dba-9999-ce771167c818"
   },
   "outputs": [
    {
     "name": "stdout",
     "output_type": "stream",
     "text": [
      "accuracy 0.711 (+/- 0.01879)\n",
      "tpr      0.583 (+/- 0.01372)\n",
      "tnr      0.927 (+/- 0.02302)\n"
     ]
    },
    {
     "data": {
      "text/html": [
       "\n",
       "        <script>\n",
       "            function code_toggle_3262844252872995460() {\n",
       "                $('div.cell.code_cell.rendered.selected').find('div.input').toggle();\n",
       "            }\n",
       "\n",
       "            \n",
       "        </script>\n",
       "\n",
       "        <a href=\"javascript:code_toggle_3262844252872995460()\">Mostrar/Ocultar</a>\n",
       "    "
      ],
      "text/plain": [
       "<IPython.core.display.HTML object>"
      ]
     },
     "execution_count": 26,
     "metadata": {},
     "output_type": "execute_result"
    }
   ],
   "source": [
    "X3 = result3.values[:,[0,1,3,4]]\n",
    "y3 = result3.values[:,2]\n",
    "y3=y3.astype('int')\n",
    "est = GaussianNB()\n",
    "s = cross_val_score(est, X3, y3, cv=KFold(10, shuffle=True), scoring=make_scorer(accuracy_score))\n",
    "print \"accuracy %.3f (+/- %.5f)\"%(np.mean(s), np.std(s))\n",
    "st = cross_val_score(est, X3, y3, cv=KFold(7, shuffle=True), scoring=tpr)\n",
    "print \"tpr      %.3f (+/- %.5f)\"%(np.mean(st), np.std(st))\n",
    "sn = cross_val_score(est, X3, y3, cv=KFold(7, shuffle=True), scoring=tnr)\n",
    "print \"tnr      %.3f (+/- %.5f)\"%(np.mean(sn), np.std(sn))\n",
    "ocultar()"
   ]
  },
  {
   "cell_type": "code",
   "execution_count": 27,
   "metadata": {
    "colab": {
     "base_uri": "https://localhost:8080/",
     "height": 85
    },
    "colab_type": "code",
    "id": "rftM8_m5cNs_",
    "outputId": "50e34ceb-bdb6-4427-dbec-1fc2329ab6f6"
   },
   "outputs": [
    {
     "name": "stdout",
     "output_type": "stream",
     "text": [
      "accuracy 0.658 (+/- 0.01689)\n",
      "tpr      0.499 (+/- 0.03280)\n",
      "tnr      0.911 (+/- 0.01261)\n"
     ]
    },
    {
     "data": {
      "text/html": [
       "\n",
       "        <script>\n",
       "            function code_toggle_1878825239360333126() {\n",
       "                $('div.cell.code_cell.rendered.selected').find('div.input').toggle();\n",
       "            }\n",
       "\n",
       "            \n",
       "        </script>\n",
       "\n",
       "        <a href=\"javascript:code_toggle_1878825239360333126()\">Mostrar/Ocultar</a>\n",
       "    "
      ],
      "text/plain": [
       "<IPython.core.display.HTML object>"
      ]
     },
     "execution_count": 27,
     "metadata": {},
     "output_type": "execute_result"
    }
   ],
   "source": [
    "X4 = result4.values[:,[0,1,3,4]]\n",
    "y4 = result4.values[:,2]\n",
    "y4=y4.astype('int')\n",
    "est = GaussianNB()\n",
    "s = cross_val_score(est, X4, y4, cv=KFold(10, shuffle=True), scoring=make_scorer(accuracy_score))\n",
    "print \"accuracy %.3f (+/- %.5f)\"%(np.mean(s), np.std(s))\n",
    "st = cross_val_score(est, X4, y4, cv=KFold(7, shuffle=True), scoring=tpr)\n",
    "print \"tpr      %.3f (+/- %.5f)\"%(np.mean(st), np.std(st))\n",
    "sn = cross_val_score(est, X4, y4, cv=KFold(7, shuffle=True), scoring=tnr)\n",
    "print \"tnr      %.3f (+/- %.5f)\"%(np.mean(sn), np.std(sn))\n",
    "ocultar()"
   ]
  },
  {
   "cell_type": "markdown",
   "metadata": {
    "colab_type": "text",
    "id": "Ync3c0wZXk73"
   },
   "source": [
    "## Random Forest"
   ]
  },
  {
   "cell_type": "code",
   "execution_count": 28,
   "metadata": {
    "colab": {
     "base_uri": "https://localhost:8080/",
     "height": 85
    },
    "colab_type": "code",
    "id": "yJGnMHTOhVWz",
    "outputId": "f83a40b7-0e71-4a69-83b3-d3f43c11635f"
   },
   "outputs": [
    {
     "name": "stdout",
     "output_type": "stream",
     "text": [
      "accuracy 0.945 (+/- 0.00914)\n",
      "tpr      0.897 (+/- 0.03666)\n",
      "tnr      1.000 (+/- 0.00000)\n"
     ]
    },
    {
     "data": {
      "text/html": [
       "\n",
       "        <script>\n",
       "            function code_toggle_3618509319717693528() {\n",
       "                $('div.cell.code_cell.rendered.selected').find('div.input').toggle();\n",
       "            }\n",
       "\n",
       "            \n",
       "        </script>\n",
       "\n",
       "        <a href=\"javascript:code_toggle_3618509319717693528()\">Mostrar/Ocultar</a>\n",
       "    "
      ],
      "text/plain": [
       "<IPython.core.display.HTML object>"
      ]
     },
     "execution_count": 28,
     "metadata": {},
     "output_type": "execute_result"
    }
   ],
   "source": [
    "estC = RandomForestClassifier()\n",
    "sC = cross_val_score(estC, X, y, cv=KFold(10, shuffle=True), scoring=make_scorer(accuracy_score))\n",
    "print \"accuracy %.3f (+/- %.5f)\"%(np.mean(sC), np.std(sC))\n",
    "st = cross_val_score(estC, X, y, cv=KFold(7, shuffle=True), scoring=tpr)\n",
    "print \"tpr      %.3f (+/- %.5f)\"%(np.mean(st), np.std(st))\n",
    "sn = cross_val_score(estC, X, y, cv=KFold(7, shuffle=True), scoring=tnr)\n",
    "print \"tnr      %.3f (+/- %.5f)\"%(np.mean(sn), np.std(sn))\n",
    "ocultar()"
   ]
  },
  {
   "cell_type": "code",
   "execution_count": 29,
   "metadata": {
    "colab": {
     "base_uri": "https://localhost:8080/",
     "height": 85
    },
    "colab_type": "code",
    "id": "tot1JEmEPupL",
    "outputId": "71daa763-846f-4ad5-c993-712615bfde40"
   },
   "outputs": [
    {
     "name": "stdout",
     "output_type": "stream",
     "text": [
      "accuracy 0.835 (+/- 0.01378)\n",
      "tpr      0.740 (+/- 0.05312)\n",
      "tnr      0.937 (+/- 0.01792)\n"
     ]
    },
    {
     "data": {
      "text/html": [
       "\n",
       "        <script>\n",
       "            function code_toggle_3662921474738923469() {\n",
       "                $('div.cell.code_cell.rendered.selected').find('div.input').toggle();\n",
       "            }\n",
       "\n",
       "            \n",
       "        </script>\n",
       "\n",
       "        <a href=\"javascript:code_toggle_3662921474738923469()\">Mostrar/Ocultar</a>\n",
       "    "
      ],
      "text/plain": [
       "<IPython.core.display.HTML object>"
      ]
     },
     "execution_count": 29,
     "metadata": {},
     "output_type": "execute_result"
    }
   ],
   "source": [
    "estC = RandomForestClassifier()\n",
    "sC = cross_val_score(estC, X1, y1, cv=KFold(10, shuffle=True), scoring=make_scorer(accuracy_score))\n",
    "print \"accuracy %.3f (+/- %.5f)\"%(np.mean(sC), np.std(sC))\n",
    "st = cross_val_score(estC, X1, y1, cv=KFold(7, shuffle=True), scoring=tpr)\n",
    "print \"tpr      %.3f (+/- %.5f)\"%(np.mean(st), np.std(st))\n",
    "sn = cross_val_score(estC, X1, y1, cv=KFold(7, shuffle=True), scoring=tnr)\n",
    "print \"tnr      %.3f (+/- %.5f)\"%(np.mean(sn), np.std(sn))\n",
    "ocultar()"
   ]
  },
  {
   "cell_type": "code",
   "execution_count": 30,
   "metadata": {
    "colab": {
     "base_uri": "https://localhost:8080/",
     "height": 85
    },
    "colab_type": "code",
    "id": "USTVPa04feVo",
    "outputId": "117e9741-c9fb-4bae-ec30-ce277133465c"
   },
   "outputs": [
    {
     "name": "stdout",
     "output_type": "stream",
     "text": [
      "accuracy 0.763 (+/- 0.03005)\n",
      "tpr      0.670 (+/- 0.03515)\n",
      "tnr      0.892 (+/- 0.01102)\n"
     ]
    },
    {
     "data": {
      "text/html": [
       "\n",
       "        <script>\n",
       "            function code_toggle_15192949450381452637() {\n",
       "                $('div.cell.code_cell.rendered.selected').find('div.input').toggle();\n",
       "            }\n",
       "\n",
       "            \n",
       "        </script>\n",
       "\n",
       "        <a href=\"javascript:code_toggle_15192949450381452637()\">Mostrar/Ocultar</a>\n",
       "    "
      ],
      "text/plain": [
       "<IPython.core.display.HTML object>"
      ]
     },
     "execution_count": 30,
     "metadata": {},
     "output_type": "execute_result"
    }
   ],
   "source": [
    "estC = RandomForestClassifier()\n",
    "sC = cross_val_score(estC, X2, y2, cv=KFold(10, shuffle=True), scoring=make_scorer(accuracy_score))\n",
    "print \"accuracy %.3f (+/- %.5f)\"%(np.mean(sC), np.std(sC))\n",
    "st = cross_val_score(estC, X2, y2, cv=KFold(7, shuffle=True), scoring=tpr)\n",
    "print \"tpr      %.3f (+/- %.5f)\"%(np.mean(st), np.std(st))\n",
    "sn = cross_val_score(estC, X2, y2, cv=KFold(7, shuffle=True), scoring=tnr)\n",
    "print \"tnr      %.3f (+/- %.5f)\"%(np.mean(sn), np.std(sn))\n",
    "ocultar()"
   ]
  },
  {
   "cell_type": "code",
   "execution_count": 31,
   "metadata": {
    "colab": {
     "base_uri": "https://localhost:8080/",
     "height": 85
    },
    "colab_type": "code",
    "id": "G8IeBTjJcj9S",
    "outputId": "7beb130b-15b5-43d9-f6b4-22329b142d40"
   },
   "outputs": [
    {
     "name": "stdout",
     "output_type": "stream",
     "text": [
      "accuracy 0.716 (+/- 0.01819)\n",
      "tpr      0.653 (+/- 0.03106)\n",
      "tnr      0.842 (+/- 0.02084)\n"
     ]
    },
    {
     "data": {
      "text/html": [
       "\n",
       "        <script>\n",
       "            function code_toggle_1169861856748076007() {\n",
       "                $('div.cell.code_cell.rendered.selected').find('div.input').toggle();\n",
       "            }\n",
       "\n",
       "            \n",
       "        </script>\n",
       "\n",
       "        <a href=\"javascript:code_toggle_1169861856748076007()\">Mostrar/Ocultar</a>\n",
       "    "
      ],
      "text/plain": [
       "<IPython.core.display.HTML object>"
      ]
     },
     "execution_count": 31,
     "metadata": {},
     "output_type": "execute_result"
    }
   ],
   "source": [
    "estC = RandomForestClassifier()\n",
    "sC = cross_val_score(estC, X3, y3, cv=KFold(10, shuffle=True), scoring=make_scorer(accuracy_score))\n",
    "print \"accuracy %.3f (+/- %.5f)\"%(np.mean(sC), np.std(sC))\n",
    "st = cross_val_score(estC, X3, y3, cv=KFold(7, shuffle=True), scoring=tpr)\n",
    "print \"tpr      %.3f (+/- %.5f)\"%(np.mean(st), np.std(st))\n",
    "sn = cross_val_score(estC, X3, y3, cv=KFold(7, shuffle=True), scoring=tnr)\n",
    "print \"tnr      %.3f (+/- %.5f)\"%(np.mean(sn), np.std(sn))\n",
    "ocultar()"
   ]
  },
  {
   "cell_type": "code",
   "execution_count": 32,
   "metadata": {
    "colab": {
     "base_uri": "https://localhost:8080/",
     "height": 85
    },
    "colab_type": "code",
    "id": "sMnp7CQCit4H",
    "outputId": "268d6691-a1e5-4487-ccfb-5e92cdb516a2"
   },
   "outputs": [
    {
     "name": "stdout",
     "output_type": "stream",
     "text": [
      "accuracy 0.676 (+/- 0.01980)\n",
      "tpr      0.626 (+/- 0.03686)\n",
      "tnr      0.809 (+/- 0.02086)\n"
     ]
    },
    {
     "data": {
      "text/html": [
       "\n",
       "        <script>\n",
       "            function code_toggle_6923255336638199756() {\n",
       "                $('div.cell.code_cell.rendered.selected').find('div.input').toggle();\n",
       "            }\n",
       "\n",
       "            \n",
       "        </script>\n",
       "\n",
       "        <a href=\"javascript:code_toggle_6923255336638199756()\">Mostrar/Ocultar</a>\n",
       "    "
      ],
      "text/plain": [
       "<IPython.core.display.HTML object>"
      ]
     },
     "execution_count": 32,
     "metadata": {},
     "output_type": "execute_result"
    }
   ],
   "source": [
    "estC = RandomForestClassifier()\n",
    "sC = cross_val_score(estC, X4, y4, cv=KFold(10, shuffle=True), scoring=make_scorer(accuracy_score))\n",
    "print \"accuracy %.3f (+/- %.5f)\"%(np.mean(sC), np.std(sC))\n",
    "st = cross_val_score(estC, X4, y4, cv=KFold(7, shuffle=True), scoring=tpr)\n",
    "print \"tpr      %.3f (+/- %.5f)\"%(np.mean(st), np.std(st))\n",
    "sn = cross_val_score(estC, X4, y4, cv=KFold(7, shuffle=True), scoring=tnr)\n",
    "print \"tnr      %.3f (+/- %.5f)\"%(np.mean(sn), np.std(sn))\n",
    "ocultar()"
   ]
  },
  {
   "cell_type": "markdown",
   "metadata": {
    "colab_type": "text",
    "id": "3UHwDeC7XSjk"
   },
   "source": [
    "## Decision Tree"
   ]
  },
  {
   "cell_type": "code",
   "execution_count": 33,
   "metadata": {
    "colab": {
     "base_uri": "https://localhost:8080/",
     "height": 85
    },
    "colab_type": "code",
    "id": "UJEwUuzMP859",
    "outputId": "748e6d72-bc7f-4353-aeff-d2d2f93b2de3"
   },
   "outputs": [
    {
     "name": "stdout",
     "output_type": "stream",
     "text": [
      "accuracy 0.945 (+/- 0.01851)\n",
      "tpr      0.898 (+/- 0.03262)\n",
      "tnr      1.000 (+/- 0.00000)\n"
     ]
    },
    {
     "data": {
      "text/html": [
       "\n",
       "        <script>\n",
       "            function code_toggle_9010795091171105020() {\n",
       "                $('div.cell.code_cell.rendered.selected').find('div.input').toggle();\n",
       "            }\n",
       "\n",
       "            \n",
       "        </script>\n",
       "\n",
       "        <a href=\"javascript:code_toggle_9010795091171105020()\">Mostrar/Ocultar</a>\n",
       "    "
      ],
      "text/plain": [
       "<IPython.core.display.HTML object>"
      ]
     },
     "execution_count": 33,
     "metadata": {},
     "output_type": "execute_result"
    }
   ],
   "source": [
    "est = DecisionTreeClassifier()\n",
    "s = cross_val_score(est, X, y, cv=KFold(10, shuffle=True), scoring=make_scorer(accuracy_score))\n",
    "print \"accuracy %.3f (+/- %.5f)\"%(np.mean(s), np.std(s))\n",
    "s = cross_val_score(est, X, y, cv=KFold(10, shuffle=True), scoring=tpr)\n",
    "print \"tpr      %.3f (+/- %.5f)\"%(np.mean(s), np.std(s))\n",
    "s = cross_val_score(est, X, y, cv=KFold(10, shuffle=True), scoring=tnr)\n",
    "print \"tnr      %.3f (+/- %.5f)\"%(np.mean(s), np.std(s))\n",
    "ocultar()"
   ]
  },
  {
   "cell_type": "code",
   "execution_count": 34,
   "metadata": {
    "colab": {
     "base_uri": "https://localhost:8080/",
     "height": 85
    },
    "colab_type": "code",
    "id": "e27JSEl1kgud",
    "outputId": "1f3f2a8c-edb9-4359-fd2b-2e3be4432b37"
   },
   "outputs": [
    {
     "name": "stdout",
     "output_type": "stream",
     "text": [
      "accuracy 0.835 (+/- 0.01944)\n",
      "tpr      0.711 (+/- 0.05209)\n",
      "tnr      0.943 (+/- 0.02038)\n"
     ]
    },
    {
     "data": {
      "text/html": [
       "\n",
       "        <script>\n",
       "            function code_toggle_10188889000054513809() {\n",
       "                $('div.cell.code_cell.rendered.selected').find('div.input').toggle();\n",
       "            }\n",
       "\n",
       "            \n",
       "        </script>\n",
       "\n",
       "        <a href=\"javascript:code_toggle_10188889000054513809()\">Mostrar/Ocultar</a>\n",
       "    "
      ],
      "text/plain": [
       "<IPython.core.display.HTML object>"
      ]
     },
     "execution_count": 34,
     "metadata": {},
     "output_type": "execute_result"
    }
   ],
   "source": [
    "est = DecisionTreeClassifier()\n",
    "s = cross_val_score(est, X1, y1, cv=KFold(10, shuffle=True), scoring=make_scorer(accuracy_score))\n",
    "print \"accuracy %.3f (+/- %.5f)\"%(np.mean(s), np.std(s))\n",
    "s = cross_val_score(est, X1, y1, cv=KFold(10, shuffle=True), scoring=tpr)\n",
    "print \"tpr      %.3f (+/- %.5f)\"%(np.mean(s), np.std(s))\n",
    "s = cross_val_score(est, X1, y1, cv=KFold(10, shuffle=True), scoring=tnr)\n",
    "print \"tnr      %.3f (+/- %.5f)\"%(np.mean(s), np.std(s))\n",
    "ocultar()"
   ]
  },
  {
   "cell_type": "code",
   "execution_count": 35,
   "metadata": {
    "colab": {
     "base_uri": "https://localhost:8080/",
     "height": 85
    },
    "colab_type": "code",
    "id": "VGWvMbtbkg5y",
    "outputId": "9751971e-d165-4a63-8410-d6b82084c4f3"
   },
   "outputs": [
    {
     "name": "stdout",
     "output_type": "stream",
     "text": [
      "accuracy 0.762 (+/- 0.02209)\n",
      "tpr      0.657 (+/- 0.04673)\n",
      "tnr      0.906 (+/- 0.02133)\n"
     ]
    },
    {
     "data": {
      "text/html": [
       "\n",
       "        <script>\n",
       "            function code_toggle_9497160048035324597() {\n",
       "                $('div.cell.code_cell.rendered.selected').find('div.input').toggle();\n",
       "            }\n",
       "\n",
       "            \n",
       "        </script>\n",
       "\n",
       "        <a href=\"javascript:code_toggle_9497160048035324597()\">Mostrar/Ocultar</a>\n",
       "    "
      ],
      "text/plain": [
       "<IPython.core.display.HTML object>"
      ]
     },
     "execution_count": 35,
     "metadata": {},
     "output_type": "execute_result"
    }
   ],
   "source": [
    "est = DecisionTreeClassifier()\n",
    "s = cross_val_score(est, X2, y2, cv=KFold(10, shuffle=True), scoring=make_scorer(accuracy_score))\n",
    "print \"accuracy %.3f (+/- %.5f)\"%(np.mean(s), np.std(s))\n",
    "s = cross_val_score(est, X2, y2, cv=KFold(10, shuffle=True), scoring=tpr)\n",
    "print \"tpr      %.3f (+/- %.5f)\"%(np.mean(s), np.std(s))\n",
    "s = cross_val_score(est, X2, y2, cv=KFold(10, shuffle=True), scoring=tnr)\n",
    "print \"tnr      %.3f (+/- %.5f)\"%(np.mean(s), np.std(s))\n",
    "ocultar()"
   ]
  },
  {
   "cell_type": "code",
   "execution_count": 36,
   "metadata": {
    "colab": {
     "base_uri": "https://localhost:8080/",
     "height": 85
    },
    "colab_type": "code",
    "id": "MFDHyjszkhL6",
    "outputId": "151ebf0f-eafc-4db6-a57a-e6a1fb0ca687"
   },
   "outputs": [
    {
     "name": "stdout",
     "output_type": "stream",
     "text": [
      "accuracy 0.711 (+/- 0.01424)\n",
      "tpr      0.634 (+/- 0.04030)\n",
      "tnr      0.860 (+/- 0.02010)\n"
     ]
    },
    {
     "data": {
      "text/html": [
       "\n",
       "        <script>\n",
       "            function code_toggle_15900709822854895047() {\n",
       "                $('div.cell.code_cell.rendered.selected').find('div.input').toggle();\n",
       "            }\n",
       "\n",
       "            \n",
       "        </script>\n",
       "\n",
       "        <a href=\"javascript:code_toggle_15900709822854895047()\">Mostrar/Ocultar</a>\n",
       "    "
      ],
      "text/plain": [
       "<IPython.core.display.HTML object>"
      ]
     },
     "execution_count": 36,
     "metadata": {},
     "output_type": "execute_result"
    }
   ],
   "source": [
    "est = DecisionTreeClassifier()\n",
    "s = cross_val_score(est, X3, y3, cv=KFold(10, shuffle=True), scoring=make_scorer(accuracy_score))\n",
    "print \"accuracy %.3f (+/- %.5f)\"%(np.mean(s), np.std(s))\n",
    "s = cross_val_score(est, X3, y3, cv=KFold(10, shuffle=True), scoring=tpr)\n",
    "print \"tpr      %.3f (+/- %.5f)\"%(np.mean(s), np.std(s))\n",
    "s = cross_val_score(est, X3, y3, cv=KFold(10, shuffle=True), scoring=tnr)\n",
    "print \"tnr      %.3f (+/- %.5f)\"%(np.mean(s), np.std(s))\n",
    "ocultar()"
   ]
  },
  {
   "cell_type": "code",
   "execution_count": 37,
   "metadata": {
    "colab": {
     "base_uri": "https://localhost:8080/",
     "height": 85
    },
    "colab_type": "code",
    "id": "p31ZYFKKkhZA",
    "outputId": "90412ca5-15e9-49f3-98a1-0318f4d59fc3"
   },
   "outputs": [
    {
     "name": "stdout",
     "output_type": "stream",
     "text": [
      "accuracy 0.684 (+/- 0.01644)\n",
      "tpr      0.638 (+/- 0.04008)\n",
      "tnr      0.830 (+/- 0.03000)\n"
     ]
    },
    {
     "data": {
      "text/html": [
       "\n",
       "        <script>\n",
       "            function code_toggle_8029315992476356895() {\n",
       "                $('div.cell.code_cell.rendered.selected').find('div.input').toggle();\n",
       "            }\n",
       "\n",
       "            \n",
       "        </script>\n",
       "\n",
       "        <a href=\"javascript:code_toggle_8029315992476356895()\">Mostrar/Ocultar</a>\n",
       "    "
      ],
      "text/plain": [
       "<IPython.core.display.HTML object>"
      ]
     },
     "execution_count": 37,
     "metadata": {},
     "output_type": "execute_result"
    }
   ],
   "source": [
    "est = DecisionTreeClassifier()\n",
    "s = cross_val_score(est, X4, y4, cv=KFold(10, shuffle=True), scoring=make_scorer(accuracy_score))\n",
    "print \"accuracy %.3f (+/- %.5f)\"%(np.mean(s), np.std(s))\n",
    "s = cross_val_score(est, X4, y4, cv=KFold(10, shuffle=True), scoring=tpr)\n",
    "print \"tpr      %.3f (+/- %.5f)\"%(np.mean(s), np.std(s))\n",
    "s = cross_val_score(est, X4, y4, cv=KFold(10, shuffle=True), scoring=tnr)\n",
    "print \"tnr      %.3f (+/- %.5f)\"%(np.mean(s), np.std(s))\n",
    "ocultar()"
   ]
  },
  {
   "cell_type": "markdown",
   "metadata": {
    "colab_type": "text",
    "id": "4A8U8jFAdKbz"
   },
   "source": [
    "## SVC"
   ]
  },
  {
   "cell_type": "code",
   "execution_count": 38,
   "metadata": {
    "colab": {
     "base_uri": "https://localhost:8080/",
     "height": 85
    },
    "colab_type": "code",
    "id": "de0SkbN8dJv4",
    "outputId": "c48d48c1-2a68-48b4-a741-ea5f033b6c59"
   },
   "outputs": [
    {
     "name": "stdout",
     "output_type": "stream",
     "text": [
      "accuracy 0.945 (+/- 0.01076)\n",
      "tpr      0.897 (+/- 0.04746)\n",
      "tnr      1.000 (+/- 0.00000)\n"
     ]
    },
    {
     "data": {
      "text/html": [
       "\n",
       "        <script>\n",
       "            function code_toggle_9187961573025165699() {\n",
       "                $('div.cell.code_cell.rendered.selected').find('div.input').toggle();\n",
       "            }\n",
       "\n",
       "            \n",
       "        </script>\n",
       "\n",
       "        <a href=\"javascript:code_toggle_9187961573025165699()\">Mostrar/Ocultar</a>\n",
       "    "
      ],
      "text/plain": [
       "<IPython.core.display.HTML object>"
      ]
     },
     "execution_count": 38,
     "metadata": {},
     "output_type": "execute_result"
    }
   ],
   "source": [
    "estS = SVC()\n",
    "s = cross_val_score(estS, X, y, cv=KFold(10, shuffle=True), scoring=make_scorer(accuracy_score))\n",
    "print \"accuracy %.3f (+/- %.5f)\"%(np.mean(s), np.std(s))\n",
    "s = cross_val_score(estS, X, y, cv=KFold(10, shuffle=True), scoring=tpr)\n",
    "print \"tpr      %.3f (+/- %.5f)\"%(np.mean(s), np.std(s))\n",
    "s = cross_val_score(estS, X, y, cv=KFold(10, shuffle=True), scoring=tnr)\n",
    "print \"tnr      %.3f (+/- %.5f)\"%(np.mean(s), np.std(s))\n",
    "ocultar()"
   ]
  },
  {
   "cell_type": "code",
   "execution_count": 39,
   "metadata": {
    "colab": {
     "base_uri": "https://localhost:8080/",
     "height": 85
    },
    "colab_type": "code",
    "id": "_MFeKMGPk1-A",
    "outputId": "9be62924-ee5a-4038-bbff-d0b70ab7540e"
   },
   "outputs": [
    {
     "name": "stdout",
     "output_type": "stream",
     "text": [
      "accuracy 0.845 (+/- 0.01375)\n",
      "tpr      0.774 (+/- 0.03473)\n",
      "tnr      0.937 (+/- 0.01968)\n"
     ]
    },
    {
     "data": {
      "text/html": [
       "\n",
       "        <script>\n",
       "            function code_toggle_11787559359433326637() {\n",
       "                $('div.cell.code_cell.rendered.selected').find('div.input').toggle();\n",
       "            }\n",
       "\n",
       "            \n",
       "        </script>\n",
       "\n",
       "        <a href=\"javascript:code_toggle_11787559359433326637()\">Mostrar/Ocultar</a>\n",
       "    "
      ],
      "text/plain": [
       "<IPython.core.display.HTML object>"
      ]
     },
     "execution_count": 39,
     "metadata": {},
     "output_type": "execute_result"
    }
   ],
   "source": [
    "estS = SVC()\n",
    "s = cross_val_score(estS, X1, y1, cv=KFold(10, shuffle=True), scoring=make_scorer(accuracy_score))\n",
    "print \"accuracy %.3f (+/- %.5f)\"%(np.mean(s), np.std(s))\n",
    "s = cross_val_score(estS, X1, y1, cv=KFold(10, shuffle=True), scoring=tpr)\n",
    "print \"tpr      %.3f (+/- %.5f)\"%(np.mean(s), np.std(s))\n",
    "s = cross_val_score(estS, X1, y1, cv=KFold(10, shuffle=True), scoring=tnr)\n",
    "print \"tnr      %.3f (+/- %.5f)\"%(np.mean(s), np.std(s))\n",
    "ocultar()"
   ]
  },
  {
   "cell_type": "code",
   "execution_count": 40,
   "metadata": {
    "colab": {
     "base_uri": "https://localhost:8080/",
     "height": 85
    },
    "colab_type": "code",
    "id": "fvbY-n1nk2I3",
    "outputId": "028ef24f-1c53-4bc0-edfb-4fe1493186ca"
   },
   "outputs": [
    {
     "name": "stdout",
     "output_type": "stream",
     "text": [
      "accuracy 0.798 (+/- 0.02598)\n",
      "tpr      0.734 (+/- 0.04151)\n",
      "tnr      0.910 (+/- 0.02577)\n"
     ]
    },
    {
     "data": {
      "text/html": [
       "\n",
       "        <script>\n",
       "            function code_toggle_6708268558169523353() {\n",
       "                $('div.cell.code_cell.rendered.selected').find('div.input').toggle();\n",
       "            }\n",
       "\n",
       "            \n",
       "        </script>\n",
       "\n",
       "        <a href=\"javascript:code_toggle_6708268558169523353()\">Mostrar/Ocultar</a>\n",
       "    "
      ],
      "text/plain": [
       "<IPython.core.display.HTML object>"
      ]
     },
     "execution_count": 40,
     "metadata": {},
     "output_type": "execute_result"
    }
   ],
   "source": [
    "estS = SVC()\n",
    "s = cross_val_score(estS, X2, y2, cv=KFold(10, shuffle=True), scoring=make_scorer(accuracy_score))\n",
    "print \"accuracy %.3f (+/- %.5f)\"%(np.mean(s), np.std(s))\n",
    "s = cross_val_score(estS, X2, y2, cv=KFold(10, shuffle=True), scoring=tpr)\n",
    "print \"tpr      %.3f (+/- %.5f)\"%(np.mean(s), np.std(s))\n",
    "s = cross_val_score(estS, X2, y2, cv=KFold(10, shuffle=True), scoring=tnr)\n",
    "print \"tnr      %.3f (+/- %.5f)\"%(np.mean(s), np.std(s))\n",
    "ocultar()"
   ]
  },
  {
   "cell_type": "code",
   "execution_count": 41,
   "metadata": {
    "colab": {
     "base_uri": "https://localhost:8080/",
     "height": 85
    },
    "colab_type": "code",
    "id": "YS2Jpdpgk2S3",
    "outputId": "40ddba43-0019-431c-d4a1-786b083475e4"
   },
   "outputs": [
    {
     "name": "stdout",
     "output_type": "stream",
     "text": [
      "accuracy 0.749 (+/- 0.01780)\n",
      "tpr      0.690 (+/- 0.03753)\n",
      "tnr      0.872 (+/- 0.01843)\n"
     ]
    },
    {
     "data": {
      "text/html": [
       "\n",
       "        <script>\n",
       "            function code_toggle_3818589328201389852() {\n",
       "                $('div.cell.code_cell.rendered.selected').find('div.input').toggle();\n",
       "            }\n",
       "\n",
       "            \n",
       "        </script>\n",
       "\n",
       "        <a href=\"javascript:code_toggle_3818589328201389852()\">Mostrar/Ocultar</a>\n",
       "    "
      ],
      "text/plain": [
       "<IPython.core.display.HTML object>"
      ]
     },
     "execution_count": 41,
     "metadata": {},
     "output_type": "execute_result"
    }
   ],
   "source": [
    "estS = SVC()\n",
    "s = cross_val_score(estS, X3, y3, cv=KFold(10, shuffle=True), scoring=make_scorer(accuracy_score))\n",
    "print \"accuracy %.3f (+/- %.5f)\"%(np.mean(s), np.std(s))\n",
    "s = cross_val_score(estS, X3, y3, cv=KFold(10, shuffle=True), scoring=tpr)\n",
    "print \"tpr      %.3f (+/- %.5f)\"%(np.mean(s), np.std(s))\n",
    "s = cross_val_score(estS, X3, y3, cv=KFold(10, shuffle=True), scoring=tnr)\n",
    "print \"tnr      %.3f (+/- %.5f)\"%(np.mean(s), np.std(s))\n",
    "ocultar()"
   ]
  },
  {
   "cell_type": "code",
   "execution_count": 42,
   "metadata": {
    "colab": {
     "base_uri": "https://localhost:8080/",
     "height": 85
    },
    "colab_type": "code",
    "id": "KqEQFAwFk2ds",
    "outputId": "bfcd4f2b-0d35-4063-d427-7c41a1bcaa59"
   },
   "outputs": [
    {
     "name": "stdout",
     "output_type": "stream",
     "text": [
      "accuracy 0.707 (+/- 0.01353)\n",
      "tpr      0.686 (+/- 0.03090)\n",
      "tnr      0.820 (+/- 0.03307)\n"
     ]
    },
    {
     "data": {
      "text/html": [
       "\n",
       "        <script>\n",
       "            function code_toggle_15030526160034443400() {\n",
       "                $('div.cell.code_cell.rendered.selected').find('div.input').toggle();\n",
       "            }\n",
       "\n",
       "            \n",
       "        </script>\n",
       "\n",
       "        <a href=\"javascript:code_toggle_15030526160034443400()\">Mostrar/Ocultar</a>\n",
       "    "
      ],
      "text/plain": [
       "<IPython.core.display.HTML object>"
      ]
     },
     "execution_count": 42,
     "metadata": {},
     "output_type": "execute_result"
    }
   ],
   "source": [
    "estS = SVC()\n",
    "s = cross_val_score(estS, X4, y4, cv=KFold(10, shuffle=True), scoring=make_scorer(accuracy_score))\n",
    "print \"accuracy %.3f (+/- %.5f)\"%(np.mean(s), np.std(s))\n",
    "s = cross_val_score(estS, X4, y4, cv=KFold(10, shuffle=True), scoring=tpr)\n",
    "print \"tpr      %.3f (+/- %.5f)\"%(np.mean(s), np.std(s))\n",
    "s = cross_val_score(estS, X4, y4, cv=KFold(10, shuffle=True), scoring=tnr)\n",
    "print \"tnr      %.3f (+/- %.5f)\"%(np.mean(s), np.std(s))\n",
    "ocultar()"
   ]
  },
  {
   "cell_type": "markdown",
   "metadata": {
    "colab_type": "text",
    "id": "BZSexQsTW06d"
   },
   "source": [
    "## PCA - SVC"
   ]
  },
  {
   "cell_type": "code",
   "execution_count": 43,
   "metadata": {
    "colab": {
     "base_uri": "https://localhost:8080/",
     "height": 51
    },
    "colab_type": "code",
    "id": "f2rk0qrqQJoU",
    "outputId": "443fc044-9b73-48c9-9d26-8ec1b0478d2b"
   },
   "outputs": [
    {
     "name": "stdout",
     "output_type": "stream",
     "text": [
      "accuracy 0.943 (+/- 0.01133)\n"
     ]
    },
    {
     "data": {
      "text/html": [
       "\n",
       "        <script>\n",
       "            function code_toggle_8756292952025867436() {\n",
       "                $('div.cell.code_cell.rendered.selected').find('div.input').toggle();\n",
       "            }\n",
       "\n",
       "            \n",
       "        </script>\n",
       "\n",
       "        <a href=\"javascript:code_toggle_8756292952025867436()\">Mostrar/Ocultar</a>\n",
       "    "
      ],
      "text/plain": [
       "<IPython.core.display.HTML object>"
      ]
     },
     "execution_count": 43,
     "metadata": {},
     "output_type": "execute_result"
    }
   ],
   "source": [
    "P1 = PCA(n_components=4).fit_transform(X)\n",
    "s = cross_val_score(SVC(), P1, y, cv=KFold(10, shuffle=True), scoring=make_scorer(accuracy_score))\n",
    "print \"accuracy %.3f (+/- %.5f)\"%(np.mean(s), np.std(s))\n",
    "ocultar()"
   ]
  },
  {
   "cell_type": "code",
   "execution_count": 44,
   "metadata": {
    "colab": {
     "base_uri": "https://localhost:8080/",
     "height": 51
    },
    "colab_type": "code",
    "id": "vK1VZcPcl6R4",
    "outputId": "b11fc33a-39dd-46ac-f2b8-7ee1cf764b21"
   },
   "outputs": [
    {
     "name": "stdout",
     "output_type": "stream",
     "text": [
      "accuracy 0.847 (+/- 0.02045)\n"
     ]
    },
    {
     "data": {
      "text/html": [
       "\n",
       "        <script>\n",
       "            function code_toggle_10783283553088467829() {\n",
       "                $('div.cell.code_cell.rendered.selected').find('div.input').toggle();\n",
       "            }\n",
       "\n",
       "            \n",
       "        </script>\n",
       "\n",
       "        <a href=\"javascript:code_toggle_10783283553088467829()\">Mostrar/Ocultar</a>\n",
       "    "
      ],
      "text/plain": [
       "<IPython.core.display.HTML object>"
      ]
     },
     "execution_count": 44,
     "metadata": {},
     "output_type": "execute_result"
    }
   ],
   "source": [
    "P2 = PCA(n_components=4).fit_transform(X1)\n",
    "s = cross_val_score(SVC(), P2, y1, cv=KFold(10, shuffle=True), scoring=make_scorer(accuracy_score))\n",
    "print \"accuracy %.3f (+/- %.5f)\"%(np.mean(s), np.std(s))\n",
    "ocultar()"
   ]
  },
  {
   "cell_type": "markdown",
   "metadata": {
    "colab_type": "text",
    "id": "jxy2Pge-WfXF"
   },
   "source": [
    "## Metodo Extra Tress Classifier"
   ]
  },
  {
   "cell_type": "code",
   "execution_count": 45,
   "metadata": {
    "colab": {
     "base_uri": "https://localhost:8080/",
     "height": 85
    },
    "colab_type": "code",
    "id": "8Xcn348WWLZw",
    "outputId": "37c0723c-8f40-4be4-ae38-4c34f3170bb0"
   },
   "outputs": [
    {
     "name": "stdout",
     "output_type": "stream",
     "text": [
      "accuracy 0.946 (+/- 0.00809)\n",
      "tpr      0.898 (+/- 0.04312)\n",
      "tnr      1.000 (+/- 0.00000)\n"
     ]
    },
    {
     "data": {
      "text/html": [
       "\n",
       "        <script>\n",
       "            function code_toggle_14731664018758515910() {\n",
       "                $('div.cell.code_cell.rendered.selected').find('div.input').toggle();\n",
       "            }\n",
       "\n",
       "            \n",
       "        </script>\n",
       "\n",
       "        <a href=\"javascript:code_toggle_14731664018758515910()\">Mostrar/Ocultar</a>\n",
       "    "
      ],
      "text/plain": [
       "<IPython.core.display.HTML object>"
      ]
     },
     "execution_count": 45,
     "metadata": {},
     "output_type": "execute_result"
    }
   ],
   "source": [
    "clf = ExtraTreesClassifier() \n",
    "s = cross_val_score(clf, X, y, cv=KFold(10, shuffle=True), scoring=make_scorer(accuracy_score))\n",
    "print \"accuracy %.3f (+/- %.5f)\"%(np.mean(s), np.std(s))\n",
    "s = cross_val_score(clf, X, y, cv=KFold(10, shuffle=True), scoring=tpr)\n",
    "print \"tpr      %.3f (+/- %.5f)\"%(np.mean(s), np.std(s))\n",
    "s = cross_val_score(clf, X, y, cv=KFold(10, shuffle=True), scoring=tnr)\n",
    "print \"tnr      %.3f (+/- %.5f)\"%(np.mean(s), np.std(s))\n",
    "ocultar()"
   ]
  },
  {
   "cell_type": "code",
   "execution_count": 46,
   "metadata": {
    "colab": {
     "base_uri": "https://localhost:8080/",
     "height": 85
    },
    "colab_type": "code",
    "id": "m0NHSs-jm72i",
    "outputId": "7867bbc1-b558-469f-80d5-06b6724b12fd"
   },
   "outputs": [
    {
     "name": "stdout",
     "output_type": "stream",
     "text": [
      "accuracy 0.842 (+/- 0.02863)\n",
      "tpr      0.740 (+/- 0.04118)\n",
      "tnr      0.946 (+/- 0.02108)\n"
     ]
    },
    {
     "data": {
      "text/html": [
       "\n",
       "        <script>\n",
       "            function code_toggle_14013332797665913790() {\n",
       "                $('div.cell.code_cell.rendered.selected').find('div.input').toggle();\n",
       "            }\n",
       "\n",
       "            \n",
       "        </script>\n",
       "\n",
       "        <a href=\"javascript:code_toggle_14013332797665913790()\">Mostrar/Ocultar</a>\n",
       "    "
      ],
      "text/plain": [
       "<IPython.core.display.HTML object>"
      ]
     },
     "execution_count": 46,
     "metadata": {},
     "output_type": "execute_result"
    }
   ],
   "source": [
    "clf = ExtraTreesClassifier() \n",
    "s = cross_val_score(clf, X1, y1, cv=KFold(10, shuffle=True), scoring=make_scorer(accuracy_score))\n",
    "print \"accuracy %.3f (+/- %.5f)\"%(np.mean(s), np.std(s))\n",
    "s = cross_val_score(clf, X1, y1, cv=KFold(10, shuffle=True), scoring=tpr)\n",
    "print \"tpr      %.3f (+/- %.5f)\"%(np.mean(s), np.std(s))\n",
    "s = cross_val_score(clf, X1, y1, cv=KFold(10, shuffle=True), scoring=tnr)\n",
    "print \"tnr      %.3f (+/- %.5f)\"%(np.mean(s), np.std(s))\n",
    "ocultar()"
   ]
  },
  {
   "cell_type": "code",
   "execution_count": 47,
   "metadata": {
    "colab": {
     "base_uri": "https://localhost:8080/",
     "height": 85
    },
    "colab_type": "code",
    "id": "kN-_d6dwm7-u",
    "outputId": "0953a538-2381-4d16-ee88-2640046a9260"
   },
   "outputs": [
    {
     "name": "stdout",
     "output_type": "stream",
     "text": [
      "accuracy 0.761 (+/- 0.01473)\n",
      "tpr      0.665 (+/- 0.04336)\n",
      "tnr      0.911 (+/- 0.01576)\n"
     ]
    },
    {
     "data": {
      "text/html": [
       "\n",
       "        <script>\n",
       "            function code_toggle_5521559608738591587() {\n",
       "                $('div.cell.code_cell.rendered.selected').find('div.input').toggle();\n",
       "            }\n",
       "\n",
       "            \n",
       "        </script>\n",
       "\n",
       "        <a href=\"javascript:code_toggle_5521559608738591587()\">Mostrar/Ocultar</a>\n",
       "    "
      ],
      "text/plain": [
       "<IPython.core.display.HTML object>"
      ]
     },
     "execution_count": 47,
     "metadata": {},
     "output_type": "execute_result"
    }
   ],
   "source": [
    "clf = ExtraTreesClassifier() \n",
    "s = cross_val_score(clf, X2, y2, cv=KFold(10, shuffle=True), scoring=make_scorer(accuracy_score))\n",
    "print \"accuracy %.3f (+/- %.5f)\"%(np.mean(s), np.std(s))\n",
    "s = cross_val_score(clf, X2, y2, cv=KFold(10, shuffle=True), scoring=tpr)\n",
    "print \"tpr      %.3f (+/- %.5f)\"%(np.mean(s), np.std(s))\n",
    "s = cross_val_score(clf, X2, y2, cv=KFold(10, shuffle=True), scoring=tnr)\n",
    "print \"tnr      %.3f (+/- %.5f)\"%(np.mean(s), np.std(s))\n",
    "ocultar()"
   ]
  },
  {
   "cell_type": "code",
   "execution_count": 48,
   "metadata": {
    "colab": {
     "base_uri": "https://localhost:8080/",
     "height": 85
    },
    "colab_type": "code",
    "id": "0XNmkA4Hm8Hq",
    "outputId": "bf2e67b9-be8e-4b02-8870-4eb5dbf5580e"
   },
   "outputs": [
    {
     "name": "stdout",
     "output_type": "stream",
     "text": [
      "accuracy 0.715 (+/- 0.01860)\n",
      "tpr      0.636 (+/- 0.04159)\n",
      "tnr      0.856 (+/- 0.02252)\n"
     ]
    },
    {
     "data": {
      "text/html": [
       "\n",
       "        <script>\n",
       "            function code_toggle_17744663869488789779() {\n",
       "                $('div.cell.code_cell.rendered.selected').find('div.input').toggle();\n",
       "            }\n",
       "\n",
       "            \n",
       "        </script>\n",
       "\n",
       "        <a href=\"javascript:code_toggle_17744663869488789779()\">Mostrar/Ocultar</a>\n",
       "    "
      ],
      "text/plain": [
       "<IPython.core.display.HTML object>"
      ]
     },
     "execution_count": 48,
     "metadata": {},
     "output_type": "execute_result"
    }
   ],
   "source": [
    "clf = ExtraTreesClassifier() \n",
    "s = cross_val_score(clf, X3, y3, cv=KFold(10, shuffle=True), scoring=make_scorer(accuracy_score))\n",
    "print \"accuracy %.3f (+/- %.5f)\"%(np.mean(s), np.std(s))\n",
    "s = cross_val_score(clf, X3, y3, cv=KFold(10, shuffle=True), scoring=tpr)\n",
    "print \"tpr      %.3f (+/- %.5f)\"%(np.mean(s), np.std(s))\n",
    "s = cross_val_score(clf, X3, y3, cv=KFold(10, shuffle=True), scoring=tnr)\n",
    "print \"tnr      %.3f (+/- %.5f)\"%(np.mean(s), np.std(s))\n",
    "ocultar()"
   ]
  },
  {
   "cell_type": "code",
   "execution_count": 49,
   "metadata": {
    "colab": {
     "base_uri": "https://localhost:8080/",
     "height": 85
    },
    "colab_type": "code",
    "id": "RdyN46sdm8RK",
    "outputId": "92268965-2af6-47fd-cfeb-50871198ab45"
   },
   "outputs": [
    {
     "name": "stdout",
     "output_type": "stream",
     "text": [
      "accuracy 0.684 (+/- 0.02304)\n",
      "tpr      0.639 (+/- 0.02946)\n",
      "tnr      0.830 (+/- 0.03145)\n"
     ]
    },
    {
     "data": {
      "text/html": [
       "\n",
       "        <script>\n",
       "            function code_toggle_16217247495959565359() {\n",
       "                $('div.cell.code_cell.rendered.selected').find('div.input').toggle();\n",
       "            }\n",
       "\n",
       "            \n",
       "        </script>\n",
       "\n",
       "        <a href=\"javascript:code_toggle_16217247495959565359()\">Mostrar/Ocultar</a>\n",
       "    "
      ],
      "text/plain": [
       "<IPython.core.display.HTML object>"
      ]
     },
     "execution_count": 49,
     "metadata": {},
     "output_type": "execute_result"
    }
   ],
   "source": [
    "clf = ExtraTreesClassifier() \n",
    "s = cross_val_score(clf, X4, y4, cv=KFold(10, shuffle=True), scoring=make_scorer(accuracy_score))\n",
    "print \"accuracy %.3f (+/- %.5f)\"%(np.mean(s), np.std(s))\n",
    "s = cross_val_score(clf, X4, y4, cv=KFold(10, shuffle=True), scoring=tpr)\n",
    "print \"tpr      %.3f (+/- %.5f)\"%(np.mean(s), np.std(s))\n",
    "s = cross_val_score(clf, X4, y4, cv=KFold(10, shuffle=True), scoring=tnr)\n",
    "print \"tnr      %.3f (+/- %.5f)\"%(np.mean(s), np.std(s))\n",
    "ocultar()"
   ]
  },
  {
   "cell_type": "markdown",
   "metadata": {
    "colab_type": "text",
    "id": "GEXaRNJqdB_b"
   },
   "source": [
    "# Comparacion de accuracy entre metodos"
   ]
  },
  {
   "cell_type": "markdown",
   "metadata": {
    "colab_type": "text",
    "id": "i0ZQGWXjpWNe"
   },
   "source": [
    "### Antes "
   ]
  },
  {
   "cell_type": "code",
   "execution_count": 50,
   "metadata": {
    "colab": {
     "base_uri": "https://localhost:8080/",
     "height": 365
    },
    "colab_type": "code",
    "id": "2EYnlZM2npgY",
    "outputId": "3f0ae987-b192-4945-d7e5-e247c4673e6a"
   },
   "outputs": [
    {
     "data": {
      "image/png": "[encoded data removed]",
      "text/plain": [
       "<matplotlib.figure.Figure at 0x7f0eb9bff050>"
      ]
     },
     "metadata": {},
     "output_type": "display_data"
    },
    {
     "data": {
      "text/html": [
       "\n",
       "        <script>\n",
       "            function code_toggle_4015961661978331952() {\n",
       "                $('div.cell.code_cell.rendered.selected').find('div.input').toggle();\n",
       "            }\n",
       "\n",
       "            \n",
       "        </script>\n",
       "\n",
       "        <a href=\"javascript:code_toggle_4015961661978331952()\">Mostrar/Ocultar</a>\n",
       "    "
      ],
      "text/plain": [
       "<IPython.core.display.HTML object>"
      ]
     },
     "execution_count": 50,
     "metadata": {},
     "output_type": "execute_result"
    }
   ],
   "source": [
    "r2_score = np.array([0.854, 0.946, 0.945, 0.947,0.946])\n",
    "labels = np.array(['Gaussian NB', 'RandomForestClassifier', 'Decision Tree','SVC','ExtraTreesClassifier'])\n",
    "indices = np.argsort(r2_score)\n",
    "color = plt.cm.rainbow(np.linspace(0, 1, 9))\n",
    "\n",
    "plt.style.use('seaborn-talk')\n",
    "plt.rcParams['figure.figsize'] = (15,5)\n",
    "plt.bar(range(len(indices)), r2_score[indices], color = color)\n",
    "plt.xticks(range(len(indices)), labels[indices])\n",
    "label = ['0.854', '0.946','0.946','0.947','0.944']\n",
    "plt.text(0,0.87,s = label[0],weight='bold')\n",
    "plt.text(1,0.96,s = label[1],weight='bold')\n",
    "plt.text(1.9,0.96,s = label[2],weight='bold')\n",
    "plt.text(3.9,0.96,s = label[3],weight='bold')\n",
    "plt.text(2.9,0.96,s = label[4],weight='bold')\n",
    "plt.title('Antes', fontsize = 20)\n",
    "plt.grid()\n",
    "plt.tight_layout()\n",
    "plt.show()\n",
    "ocultar()"
   ]
  },
  {
   "cell_type": "markdown",
   "metadata": {
    "colab_type": "text",
    "id": "Yj2CrulPpaxv"
   },
   "source": [
    "### Con los metodos"
   ]
  },
  {
   "cell_type": "code",
   "execution_count": 51,
   "metadata": {
    "colab": {
     "base_uri": "https://localhost:8080/",
     "height": 830
    },
    "colab_type": "code",
    "id": "Y2TpK0EVZf9q",
    "outputId": "48f96275-376c-4584-9d03-2f5a4d96a6fa"
   },
   "outputs": [
    {
     "data": {
      "image/png": "[encoded data removed]",
      "text/plain": [
       "<matplotlib.figure.Figure at 0x7f0eb9735e90>"
      ]
     },
     "metadata": {},
     "output_type": "display_data"
    },
    {
     "data": {
      "image/png": "[encoded data removed]",
      "text/plain": [
       "<matplotlib.figure.Figure at 0x7f0eb984b110>"
      ]
     },
     "metadata": {},
     "output_type": "display_data"
    },
    {
     "data": {
      "image/png": "[encoded data removed]",
      "text/plain": [
       "<matplotlib.figure.Figure at 0x7f0eb9a78350>"
      ]
     },
     "metadata": {},
     "output_type": "display_data"
    },
    {
     "data": {
      "image/png": "[encoded data removed]",
      "text/plain": [
       "<matplotlib.figure.Figure at 0x7f0eb9a785d0>"
      ]
     },
     "metadata": {},
     "output_type": "display_data"
    },
    {
     "data": {
      "text/html": [
       "\n",
       "        <script>\n",
       "            function code_toggle_9909951404047825306() {\n",
       "                $('div.cell.code_cell.rendered.selected').find('div.input').toggle();\n",
       "            }\n",
       "\n",
       "            \n",
       "        </script>\n",
       "\n",
       "        <a href=\"javascript:code_toggle_9909951404047825306()\">Mostrar/Ocultar</a>\n",
       "    "
      ],
      "text/plain": [
       "<IPython.core.display.HTML object>"
      ]
     },
     "execution_count": 51,
     "metadata": {},
     "output_type": "execute_result"
    }
   ],
   "source": [
    "r2_score = np.array([0.789,0.842, 0.834, 0.848, 0.838])\n",
    "labels = np.array(['GNB', 'RFC', 'DT','SVC','ETC'])\n",
    "indices = np.argsort(r2_score)\n",
    "color = plt.cm.rainbow(np.linspace(0, 1, 9))\n",
    "\n",
    "\n",
    "plt.style.use('seaborn-talk')\n",
    "plt.rcParams['figure.figsize'] = (15,5)\n",
    "plt.subplot(221)\n",
    "plt.bar(range(len(indices)), r2_score[indices], color = color)\n",
    "plt.xticks(range(len(indices)), labels[indices])\n",
    "label = ['0.789','0.842', '0.834', '0.848', '0.838']\n",
    "plt.text(-0.15,0.8,s = label[0],weight='bold')\n",
    "plt.text(0.91,0.85,s = label[1],weight='bold')\n",
    "plt.text(1.9,0.84,s = label[2],weight='bold')\n",
    "plt.text(3.9,0.86,s = label[3],weight='bold')\n",
    "plt.text(2.9,0.86,s = label[4],weight='bold')\n",
    "plt.title('700 datos', fontsize = 20, loc='center')\n",
    "plt.grid()\n",
    "plt.tight_layout()\n",
    "plt.show()\n",
    "\n",
    "\n",
    "r3_score = np.array([0.710,0.755,0.755,0.787,0.766])\n",
    "labels = np.array(['GNB', 'RFC', 'DT','SVC','ETC'])\n",
    "indices = np.argsort(r3_score)\n",
    "color = plt.cm.rainbow(np.linspace(0, 1, 9))\n",
    "\n",
    "\n",
    "plt.style.use('seaborn-talk')\n",
    "plt.rcParams['figure.figsize'] = (15,5)\n",
    "plt.subplot(222)\n",
    "plt.bar(range(len(indices)), r3_score[indices], color = color)\n",
    "plt.xticks(range(len(indices)), labels[indices])\n",
    "label = ['0.710','0.755','0.755','0.787','0.766']\n",
    "plt.text(-0.2,0.74,s = label[0],weight='bold')\n",
    "plt.text(0.85,0.78,s = label[1],weight='bold')\n",
    "plt.text(1.84,0.78,s = label[2],weight='bold')\n",
    "plt.text(3.8,0.8,s = label[3],weight='bold')\n",
    "plt.text(2.8,0.78,s = label[4],weight='bold')\n",
    "plt.title('1500 datos', fontsize = 20, loc='center')\n",
    "plt.grid()\n",
    "plt.tight_layout()\n",
    "plt.show()\n",
    "\n",
    "r4_score = np.array([0.655,0.703, 0.700, 0.736, 0.693])\n",
    "labels = np.array(['GNB', 'RFC', 'DT','SVC','ETC'])\n",
    "indices = np.argsort(r4_score)\n",
    "color = plt.cm.rainbow(np.linspace(0, 1, 9))\n",
    "\n",
    "plt.subplot(2,2,3)\n",
    "plt.style.use('seaborn-talk')\n",
    "plt.rcParams['figure.figsize'] = (15,5)\n",
    "plt.bar(range(len(indices)), r4_score[indices], color = color)\n",
    "plt.xticks(range(len(indices)), labels[indices])\n",
    "label = ['0.655','0.703', '0.700', '0.736', '0.693']\n",
    "plt.text(-0.2,0.69,s = label[0],weight='bold')\n",
    "plt.text(0.85,0.72,s = label[1],weight='bold')\n",
    "plt.text(1.84,0.7,s = label[2],weight='bold')\n",
    "plt.text(3.8,0.75,s = label[3],weight='bold')\n",
    "plt.text(2.8,0.72,s = label[4],weight='bold')\n",
    "plt.title('2500 datos', fontsize = 20, loc='center')\n",
    "plt.grid()\n",
    "plt.tight_layout()\n",
    "plt.show()\n",
    "\n",
    "\n",
    "r5_score = np.array([0.645, 0.658, 0.661, 0.701, 0.661])\n",
    "labels = np.array(['GNB', 'RFC', 'DT','SVC','ETC'])\n",
    "indices = np.argsort(r5_score)\n",
    "color = plt.cm.rainbow(np.linspace(0, 1, 9))\n",
    "\n",
    "plt.subplot(2,2,4)\n",
    "plt.style.use('seaborn-talk')\n",
    "plt.rcParams['figure.figsize'] = (15,5)\n",
    "plt.bar(range(len(indices)), r5_score[indices], color = color)\n",
    "plt.xticks(range(len(indices)), labels[indices])\n",
    "label = ['0.645', '0.658', '0.661', '0.701', '0.661']\n",
    "plt.text(-0.2,0.67,s = label[0],weight='bold')\n",
    "plt.text(0.85,0.68,s = label[1],weight='bold')\n",
    "plt.text(1.84,0.68,s = label[2],weight='bold')\n",
    "plt.text(3.8,0.7,s = label[3],weight='bold')\n",
    "plt.text(2.8,0.67,s = label[4],weight='bold')\n",
    "plt.title('4000 datos', fontsize = 20, loc='center')\n",
    "plt.grid()\n",
    "plt.tight_layout()\n",
    "plt.show()\n",
    "\n",
    "\n",
    "\n",
    "\n",
    "\n",
    "ocultar()"
   ]
  },
  {
   "cell_type": "markdown",
   "metadata": {
    "colab_type": "text",
    "id": "CVtBhiau1j6B"
   },
   "source": [
    "### SVC AUMENTANDO LOS DATOS"
   ]
  },
  {
   "cell_type": "code",
   "execution_count": 52,
   "metadata": {
    "colab": {
     "base_uri": "https://localhost:8080/",
     "height": 396
    },
    "colab_type": "code",
    "id": "x4mEiR1Z1qRo",
    "outputId": "02a5809b-e1e7-444f-8b8e-505e80d0c6e5"
   },
   "outputs": [
    {
     "data": {
      "image/png": "[encoded data removed]",
      "text/plain": [
       "<matplotlib.figure.Figure at 0x7f0ec331f650>"
      ]
     },
     "metadata": {},
     "output_type": "display_data"
    },
    {
     "data": {
      "text/html": [
       "\n",
       "        <script>\n",
       "            function code_toggle_10554293423129891140() {\n",
       "                $('div.cell.code_cell.rendered.selected').find('div.input').toggle();\n",
       "            }\n",
       "\n",
       "            \n",
       "        </script>\n",
       "\n",
       "        <a href=\"javascript:code_toggle_10554293423129891140()\">Mostrar/Ocultar</a>\n",
       "    "
      ],
      "text/plain": [
       "<IPython.core.display.HTML object>"
      ]
     },
     "execution_count": 52,
     "metadata": {},
     "output_type": "execute_result"
    }
   ],
   "source": [
    "r2_score = np.array([0.954,0.848,0.787, 0.736, 0.701])\n",
    "labels = np.array(['Original','700', '1500', '2500','4000'])\n",
    "indices = np.argsort(r2_score)\n",
    "color = plt.cm.rainbow(np.linspace(0, 1, 9))\n",
    "\n",
    "\n",
    "plt.style.use('seaborn-talk')\n",
    "plt.rcParams['figure.figsize'] = (15,10)\n",
    "plt.subplot(221)\n",
    "plt.bar(range(len(indices)), r2_score[indices], color = color)\n",
    "plt.xticks(range(len(indices)), labels[indices])\n",
    "label = ['0.701','0.736','0.787', '0.954', '0.848']\n",
    "plt.text(-0.15,0.73,s = label[0],weight='bold')\n",
    "plt.text(0.85,0.77,s = label[1],weight='bold')\n",
    "plt.text(1.8,0.82,s = label[2],weight='bold')\n",
    "plt.text(3.8,0.96,s = label[3],weight='bold')\n",
    "plt.text(2.8,0.89,s = label[4],weight='bold')\n",
    "plt.title('SVC aumentando datos', fontsize = 20, loc='center')\n",
    "plt.grid()\n",
    "plt.tight_layout()\n",
    "plt.show()\n",
    "ocultar()"
   ]
  }
 ],
 "metadata": {
  "colab": {
   "collapsed_sections": [
    "QQ9dbMyNGkQg",
    "ZbTAvBFX4z8q",
    "meTehgjCGkQo",
    "KqYfMqbd5sQs",
    "ucxsmddCGkRO",
    "g30N9yzvGkRU",
    "Qv__ce3BGkRa",
    "19JXy0qaXq1C",
    "Ync3c0wZXk73",
    "3UHwDeC7XSjk",
    "4A8U8jFAdKbz",
    "BZSexQsTW06d",
    "jxy2Pge-WfXF",
    "GEXaRNJqdB_b",
    "i0ZQGWXjpWNe",
    "Yj2CrulPpaxv",
    "CVtBhiau1j6B"
   ],
   "name": "Colombia-Copy1.ipynb",
   "provenance": [],
   "version": "0.3.2"
  },
  "kernelspec": {
   "display_name": "Python 2",
   "language": "python",
   "name": "python2"
  },
  "language_info": {
   "codemirror_mode": {
    "name": "ipython",
    "version": 2
   },
   "file_extension": ".py",
   "mimetype": "text/x-python",
   "name": "python",
   "nbconvert_exporter": "python",
   "pygments_lexer": "ipython2",
   "version": "2.7.14"
  }
 },
 "nbformat": 4,
 "nbformat_minor": 1
}
